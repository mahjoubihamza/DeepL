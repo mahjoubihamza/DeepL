{
  "nbformat": 4,
  "nbformat_minor": 0,
  "metadata": {
    "colab": {
      "provenance": [],
      "authorship_tag": "ABX9TyPy0HrAxPd2JdF1WU24gp/l",
      "include_colab_link": true
    },
    "kernelspec": {
      "name": "python3",
      "display_name": "Python 3"
    },
    "language_info": {
      "name": "python"
    }
  },
  "cells": [
    {
      "cell_type": "markdown",
      "metadata": {
        "id": "view-in-github",
        "colab_type": "text"
      },
      "source": [
        "<a href=\"https://colab.research.google.com/github/mahjoubihamza/DeepL/blob/master/Features_Search.ipynb\" target=\"_parent\"><img src=\"https://colab.research.google.com/assets/colab-badge.svg\" alt=\"Open In Colab\"/></a>"
      ]
    },
    {
      "cell_type": "code",
      "source": [
        "from google.colab import drive\n",
        "drive.mount('/content/drive')"
      ],
      "metadata": {
        "colab": {
          "base_uri": "https://localhost:8080/"
        },
        "id": "wnhKH0Vc9NtM",
        "outputId": "9b370dbf-2827-4277-f03b-03ad0ea19d46"
      },
      "execution_count": 1,
      "outputs": [
        {
          "output_type": "stream",
          "name": "stdout",
          "text": [
            "Drive already mounted at /content/drive; to attempt to forcibly remount, call drive.mount(\"/content/drive\", force_remount=True).\n"
          ]
        }
      ]
    },
    {
      "cell_type": "code",
      "source": [
        "import pandas as pd\n",
        "import numpy as np\n",
        "import pickle"
      ],
      "metadata": {
        "id": "wDjqg3Va3e2p"
      },
      "execution_count": 2,
      "outputs": []
    },
    {
      "cell_type": "code",
      "source": [
        "def sign(df_var, pct = True):\n",
        "    df = df_var.copy()\n",
        "    if pct:\n",
        "        df = df.pct_change()\n",
        "    df_sign = pd.DataFrame(columns=df.columns, index=df.index)\n",
        "    for col in df.columns:\n",
        "        df_sign[col] = np.where(df[col] > 0, 'pos', 'neg')\n",
        "    #take NaN values from the original dataframe and put them in the new dataframe\n",
        "    df_sign[df.isna()] = np.nan\n",
        "    #take Nan values instead of 0 in the original dataframe and put them in the new dataframe\n",
        "    df_sign[df == 0] = \"no change\"\n",
        "    ##fill nan values with \"no change\"\n",
        "    #df_sign = df_sign.fillna('no change')\n",
        "    return df_sign"
      ],
      "metadata": {
        "id": "TyYbv-S-3ZlI"
      },
      "execution_count": 3,
      "outputs": []
    },
    {
      "cell_type": "code",
      "source": [
        "!pip install pandas==1.4.2"
      ],
      "metadata": {
        "colab": {
          "base_uri": "https://localhost:8080/"
        },
        "id": "kUC6XmWsGH0d",
        "outputId": "95d0d5fa-7741-4711-9c60-f8219f7a8321"
      },
      "execution_count": 4,
      "outputs": [
        {
          "output_type": "stream",
          "name": "stdout",
          "text": [
            "Looking in indexes: https://pypi.org/simple, https://us-python.pkg.dev/colab-wheels/public/simple/\n",
            "Requirement already satisfied: pandas==1.4.2 in /usr/local/lib/python3.8/dist-packages (1.4.2)\n",
            "Requirement already satisfied: pytz>=2020.1 in /usr/local/lib/python3.8/dist-packages (from pandas==1.4.2) (2022.7.1)\n",
            "Requirement already satisfied: numpy>=1.18.5 in /usr/local/lib/python3.8/dist-packages (from pandas==1.4.2) (1.21.6)\n",
            "Requirement already satisfied: python-dateutil>=2.8.1 in /usr/local/lib/python3.8/dist-packages (from pandas==1.4.2) (2.8.2)\n",
            "Requirement already satisfied: six>=1.5 in /usr/local/lib/python3.8/dist-packages (from python-dateutil>=2.8.1->pandas==1.4.2) (1.15.0)\n"
          ]
        }
      ]
    },
    {
      "cell_type": "code",
      "source": [
        "path_Indices = \"/content/drive/MyDrive/Database/Indices.csv\"\n",
        "path_Indicators = \"/content/drive/MyDrive/Database/Indicators.csv\"\n",
        "path_Correlations = \"/content/drive/MyDrive/Database/Corr_df.csv\"\n"
      ],
      "metadata": {
        "id": "I7qR1EN9307I"
      },
      "execution_count": 5,
      "outputs": []
    },
    {
      "cell_type": "code",
      "source": [
        "Indices = pd.read_csv(path_Indices)\n",
        "Indicators = pd.read_csv(path_Indicators)\n",
        "Corr_df = pd.read_csv(path_Correlations)\n"
      ],
      "metadata": {
        "id": "mP-vj__LxtfU"
      },
      "execution_count": 6,
      "outputs": []
    },
    {
      "cell_type": "code",
      "source": [
        "Indices.set_index('Date' , inplace = True)"
      ],
      "metadata": {
        "id": "hGr2-WqNCDRD"
      },
      "execution_count": 7,
      "outputs": []
    },
    {
      "cell_type": "code",
      "source": [
        "Indices = sign(Indices)"
      ],
      "metadata": {
        "id": "TNyO3VFtCKCB"
      },
      "execution_count": 8,
      "outputs": []
    },
    {
      "cell_type": "code",
      "source": [
        "###\n",
        "Corr_df.drop(columns=['Unnamed: 0'], inplace=True)"
      ],
      "metadata": {
        "id": "UVrS_zO5DMRB"
      },
      "execution_count": 9,
      "outputs": []
    },
    {
      "cell_type": "code",
      "source": [
        "Corr_df.groupby('indice').apply(lambda x : x.shape[0])"
      ],
      "metadata": {
        "colab": {
          "base_uri": "https://localhost:8080/"
        },
        "id": "bm9jVdRJDjrx",
        "outputId": "8c5aed1b-269a-4d96-b99a-fda20c10fd29"
      },
      "execution_count": 10,
      "outputs": [
        {
          "output_type": "execute_result",
          "data": {
            "text/plain": [
              "indice\n",
              "DAP BULK CFR - INDIA SPOT - USD/T                    1231\n",
              "DAP BULK FCA - TERNEUZEN/GHENT SPOT - USD/T           553\n",
              "DAP BULK FOB - US NEW ORLEANS BARGE SPOT - USD/ST     553\n",
              "MAP GRANULAR BULK CFR - BRAZIL SPOT - USD/T          1230\n",
              "dtype: int64"
            ]
          },
          "metadata": {},
          "execution_count": 10
        }
      ]
    },
    {
      "cell_type": "code",
      "source": [
        "Indicators_ = {}\n",
        "for indicator in Indicators['Indicator'].unique():\n",
        "    Indicators_[indicator] = Indicators[Indicators['Indicator'] == indicator]\n",
        "    Indicators_[indicator].drop(columns=['Indicator', \"Unnamed: 0\"], inplace=True)\n",
        "    Indicators_[indicator].set_index('Date', inplace=True)"
      ],
      "metadata": {
        "id": "fVpAzI18D8dk"
      },
      "execution_count": null,
      "outputs": []
    },
    {
      "cell_type": "code",
      "source": [
        "Indicators = Indicators_\n",
        "Indicators.keys()"
      ],
      "metadata": {
        "colab": {
          "base_uri": "https://localhost:8080/"
        },
        "id": "YPEjO58MD_EB",
        "outputId": "ff241e9e-51aa-4027-b06c-4ab0942d0d4e"
      },
      "execution_count": 12,
      "outputs": [
        {
          "output_type": "execute_result",
          "data": {
            "text/plain": [
              "dict_keys(['Spread Fert', '1 week Returns Fert', '2 week Returns Fert', '4 week Returns Fert', '8 week Returns Fert', '13 week Returns Fert', '26 week Returns Fert', 'Vol Fert', '52 week Returns Fert', 'Rank Fert', '1 week Returns IV', '2 week Returns IV', '4 week Returns IV', '8 week Returns IV', '13 week Returns IV', '26 week Returns IV', 'Vol IV', 'Rank IV', '52 week Returns IV', '1 week Returns SA', '2 week Returns SA', '4 week Returns SA', '8 week Returns SA', '13 week Returns SA', '26 week Returns SA', 'Vol SA', 'Rank SA', '52 week Returns SA'])"
            ]
          },
          "metadata": {},
          "execution_count": 12
        }
      ]
    },
    {
      "cell_type": "code",
      "source": [
        "Corr_df = Corr_df[(Corr_df['nan count'] <= 1) & (Corr_df['2021 - 2023'].isna() == False)]"
      ],
      "metadata": {
        "id": "DuzRxefuGBkp"
      },
      "execution_count": 13,
      "outputs": []
    },
    {
      "cell_type": "code",
      "source": [
        "Sub_indicators = {}\n",
        "for indice in Indices.columns:\n",
        "    df_indice = Corr_df[Corr_df[\"indice\"] == indice]\n",
        "\n",
        "    Sub_indicators[indice] = pd.DataFrame(index = Indices.index)\n",
        "\n",
        "    for i in range(len(df_indice)):\n",
        "        indicator,cat,  feature = df_indice.iloc[i, 1],df_indice.iloc[i, 2], df_indice.iloc[i, 5]\n",
        "        data_source = \" \".join([indicator, cat])\n",
        "        sub_df = Indicators[data_source][feature]\n",
        "        Sub_indicators[indice].loc[sub_df.index, \"**\".join([data_source , feature])] = sub_df"
      ],
      "metadata": {
        "id": "qHcjpxHtEceY"
      },
      "execution_count": null,
      "outputs": []
    },
    {
      "cell_type": "code",
      "source": [],
      "metadata": {
        "id": "r81OsiSNErQx"
      },
      "execution_count": null,
      "outputs": []
    }
  ]
}