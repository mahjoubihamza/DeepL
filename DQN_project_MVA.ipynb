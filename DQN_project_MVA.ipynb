{
 "cells": [
  {
   "cell_type": "markdown",
   "metadata": {},
   "source": [
    "**You may need to install [OpenCV](https://pypi.python.org/pypi/opencv-python) and [scikit-video](http://www.scikit-video.org/stable/).**"
   ]
  },
  {
   "cell_type": "code",
   "execution_count": 55,
   "metadata": {},
   "outputs": [],
   "source": [
    "import keras\n",
    "import numpy as np\n",
    "import io\n",
    "import base64\n",
    "from IPython.display import HTML\n",
    "import skvideo.io\n",
    "import cv2\n",
    "import json\n",
    "\n",
    "from keras.models import Sequential,model_from_json\n",
    "from keras.layers.core import Dense\n",
    "from keras.optimizers import sgd\n",
    "from keras.layers import Conv2D, MaxPooling2D, Activation, AveragePooling2D,Reshape,BatchNormalization,Flatten"
   ]
  },
  {
   "cell_type": "markdown",
   "metadata": {},
   "source": [
    "# MiniProject #3: Deep Reinforcement Learning"
   ]
  },
  {
   "cell_type": "markdown",
   "metadata": {},
   "source": [
    "__Notations__: $E_p$ is the expectation under probability $p$. Please justify each of your answer and widely comment your code."
   ]
  },
  {
   "cell_type": "markdown",
   "metadata": {},
   "source": [
    "# Context"
   ]
  },
  {
   "cell_type": "markdown",
   "metadata": {},
   "source": [
    "In a reinforcement learning algorithm, we modelize each step $t$ as an action $a_t$ obtained from a state $s_t$, i.e. $\\{(a_{t},s_{t})_{t\\leq T}\\}$ having the Markov property. We consider a discount factor $\\gamma \\in [0,1]$ that ensures convergence. The goal is to find among all the policies $\\pi$, one that maximizes the expected reward:\n",
    "\n",
    "\\begin{equation*}\n",
    "R(\\pi)=\\sum_{t\\leq T}E_{p^{\\pi}}[\\gamma^t r(s_{t},a_{t})] \\> ,\n",
    "\\end{equation*}\n",
    "\n",
    "where: \n",
    "\\begin{equation*}p^{\\pi}(a_{0},a_{1},s_{1},...,a_{T},s_{T})=p(a_{0})\\prod_{t=1}^{T}\\pi(a_{t}|s_{t})p(s_{t+1}|s_{t},a_{t}) \\> .\n",
    "\\end{equation*}\n",
    "\n",
    "We note the $Q$-function:\n",
    "\n",
    "\\begin{equation*}Q^\\pi(s,a)=E_{p^{\\pi}}[\\sum_{t\\leq T}\\gamma^{t}r(s_{t},a_{t})|s_{0}=s,a_{0}=a] \\> .\n",
    "\\end{equation*}\n",
    "\n",
    "Thus, the optimal Q function is:\n",
    "\\begin{equation*}\n",
    "Q^*(s,a)=\\max_{\\pi}Q^\\pi(s,a) \\> .\n",
    "\\end{equation*}\n",
    "\n",
    "In this project, we will apply the deep reinforcement learning techniques to a simple game: an agent will have to learn from scratch a policy that will permit it maximizing a reward."
   ]
  },
  {
   "cell_type": "markdown",
   "metadata": {},
   "source": [
    "## The environment, the agent and the game"
   ]
  },
  {
   "cell_type": "markdown",
   "metadata": {},
   "source": [
    "### The environment"
   ]
  },
  {
   "cell_type": "markdown",
   "metadata": {},
   "source": [
    "```Environment``` is an abstract class that represents the states, rewards, and actions to obtain the new state."
   ]
  },
  {
   "cell_type": "code",
   "execution_count": 56,
   "metadata": {},
   "outputs": [],
   "source": [
    "class Environment(object):\n",
    "    def __init__(self):\n",
    "        pass\n",
    "\n",
    "    def act(self, act):\n",
    "        \"\"\"\n",
    "        One can act on the environment and obtain its reaction:\n",
    "        - the new state\n",
    "        - the reward of the new state\n",
    "        - should we continue the game?\n",
    "\n",
    "        :return: state, reward, game_over\n",
    "        \"\"\"\n",
    "        pass\n",
    "\n",
    "\n",
    "    def reset(self):\n",
    "        \"\"\"\n",
    "        Reinitialize the environment to a random state and returns\n",
    "        the original state\n",
    "\n",
    "        :return: state\n",
    "        \"\"\"\n",
    "        pass\n",
    "    \n",
    "    def draw(self):\n",
    "        \"\"\"\n",
    "        Visualize in the console or graphically the current state\n",
    "        \"\"\"\n",
    "        pass"
   ]
  },
  {
   "cell_type": "markdown",
   "metadata": {},
   "source": [
    "The method ```act``` allows to act on the environment at a given state $s_t$ (stored internally), via action $a_t$. The method will return the new state $s_{t+1}$, the reward $r(s_{t},a_{t})$ and determines if $t\\leq T$ (*game_over*).\n",
    "\n",
    "The method ```reset``` simply reinitializes the environment to a random state $s_0$.\n",
    "\n",
    "The method ```draw``` displays the current state $s_t$ (this is useful to check the behavior of the Agent).\n",
    "\n",
    "We modelize $s_t$ as a tensor, while $a_t$ is an integer."
   ]
  },
  {
   "cell_type": "markdown",
   "metadata": {},
   "source": [
    "### The Agent"
   ]
  },
  {
   "cell_type": "markdown",
   "metadata": {},
   "source": [
    "The goal of the ```Agent``` is to interact with the ```Environment``` by proposing actions $a_t$ obtained from a given state $s_t$ to attempt to maximize its __reward__ $r(s_t,a_t)$. We propose the following abstract class:"
   ]
  },
  {
   "cell_type": "code",
   "execution_count": 57,
   "metadata": {},
   "outputs": [],
   "source": [
    "class Agent(object):\n",
    "    def __init__(self, epsilon=0.1, n_action=4):\n",
    "        self.epsilon = epsilon\n",
    "        self.n_action = n_action\n",
    "    \n",
    "    def set_epsilon(self,e):\n",
    "        self.epsilon = e\n",
    "\n",
    "    def act(self,s,train=True):\n",
    "        \"\"\" This function should return the next action to do:\n",
    "        an integer between 0 and 4 (not included) with a random exploration of epsilon\"\"\"\n",
    "        if train:\n",
    "            if np.random.rand() <= self.epsilon:\n",
    "                a = np.random.randint(0, self.n_action, size=1)[0]\n",
    "            else:\n",
    "                a = self.learned_act(s)\n",
    "        else: # in some cases, this can improve the performance.. remove it if poor performances\n",
    "            a = self.learned_act(s)\n",
    "\n",
    "        return a\n",
    "\n",
    "    def learned_act(self,s):\n",
    "        \"\"\" Act via the policy of the agent, from a given state s\n",
    "        it proposes an action a\"\"\"\n",
    "        pass\n",
    "\n",
    "    def reinforce(self, s, n_s, a, r, game_over_):\n",
    "        \"\"\" This function is the core of the learning algorithm. \n",
    "        It takes as an input the current state s_, the next state n_s_\n",
    "        the action a_ used to move from s_ to n_s_ and the reward r_.\n",
    "        \n",
    "        Its goal is to learn a policy.\n",
    "        \"\"\"\n",
    "        pass\n",
    "\n",
    "    def save(self):\n",
    "        \"\"\" This function returns basic stats if applicable: the\n",
    "        loss and/or the model\"\"\"\n",
    "        pass\n",
    "\n",
    "    def load(self):\n",
    "        \"\"\" This function allows to restore a model\"\"\"\n",
    "        pass"
   ]
  },
  {
   "cell_type": "markdown",
   "metadata": {},
   "source": [
    "***\n",
    "__Question 1__:\n",
    "Explain the function act. Why is ```epsilon``` essential?"
   ]
  },
  {
   "cell_type": "markdown",
   "metadata": {},
   "source": [
    "Given the current state, the agent will chose randomly between the best action drawn from the current policy with probability $1 - \\epsilon$, or a random action with probability $\\epsilon$.\n",
    "\n",
    "The parameter $\\epsilon$ is essential if we want to add a bit of exploration in our model."
   ]
  },
  {
   "cell_type": "markdown",
   "metadata": {},
   "source": [
    "***\n",
    "### The Game"
   ]
  },
  {
   "cell_type": "markdown",
   "metadata": {},
   "source": [
    "The ```Agent``` and the ```Environment``` work in an interlaced way as in the following (take some time to understand this code as it is the core of the project)\n",
    "\n",
    "```python\n",
    "\n",
    "epoch = 300\n",
    "env = Environment()\n",
    "agent = Agent()\n",
    "\n",
    "\n",
    "# Number of won games\n",
    "score = 0\n",
    "loss = 0\n",
    "\n",
    "\n",
    "for e in range(epoch):\n",
    "    # At each epoch, we restart to a fresh game and get the initial state\n",
    "    state = env.reset()\n",
    "    # This assumes that the games will end\n",
    "    game_over = False\n",
    "\n",
    "    win = 0\n",
    "    lose = 0\n",
    "    \n",
    "    while not game_over:\n",
    "        # The agent performs an action\n",
    "        action = agent.act(state)\n",
    "\n",
    "        # Apply an action to the environment, get the next state, the reward\n",
    "        # and if the games end\n",
    "        prev_state = state\n",
    "        state, reward, game_over = env.act(action)\n",
    "\n",
    "        # Update the counters\n",
    "        if reward > 0:\n",
    "            win = win + reward\n",
    "        if reward < 0:\n",
    "            lose = lose -reward\n",
    "\n",
    "        # Apply the reinforcement strategy\n",
    "        loss = agent.reinforce(prev_state, state,  action, reward, game_over)\n",
    "\n",
    "    # Save as a mp4\n",
    "    if e % 10 == 0:\n",
    "        env.draw(e)\n",
    "\n",
    "    # Update stats\n",
    "    score += win-lose\n",
    "\n",
    "    print(\"Epoch {:03d}/{:03d} | Loss {:.4f} | Win/lose count {}/{} ({})\"\n",
    "          .format(e, epoch, loss, win, lose, win-lose))\n",
    "    agent.save()\n",
    "```"
   ]
  },
  {
   "cell_type": "markdown",
   "metadata": {},
   "source": [
    "# The game, *eat cheese*"
   ]
  },
  {
   "cell_type": "markdown",
   "metadata": {},
   "source": [
    "A rat runs on an island and tries to eat as much as possible. The island is subdivided into $N\\times N$ cells, in which there are cheese (+0.5) and poisonous cells (-1). The rat has a visibility of 2 cells (thus it can see $5^2$ cells). The rat is given a time $T$ to accumulate as much food as possible. It can perform 4 actions: going up, down, left, right. \n",
    "\n",
    "The goal is to code an agent to solve this task that will learn by trial and error. We propose the following environment:"
   ]
  },
  {
   "cell_type": "code",
   "execution_count": 58,
   "metadata": {},
   "outputs": [],
   "source": [
    "class Environment(object):\n",
    "    def __init__(self, grid_size=10, max_time=500, temperature=0.1):\n",
    "        grid_size = grid_size+4\n",
    "        self.grid_size = grid_size\n",
    "        self.max_time = max_time\n",
    "        self.temperature = temperature\n",
    "\n",
    "        #board on which one plays\n",
    "        self.board = np.zeros((grid_size,grid_size))\n",
    "        self.position = np.zeros((grid_size,grid_size))\n",
    "\n",
    "        # coordinate of the cat\n",
    "        self.x = 0\n",
    "        self.y = 1\n",
    "\n",
    "        # self time\n",
    "        self.t = 0\n",
    "\n",
    "        self.scale=16\n",
    "\n",
    "        self.to_draw = np.zeros((max_time+2, grid_size*self.scale, grid_size*self.scale, 3))\n",
    "\n",
    "\n",
    "    def draw(self,e):\n",
    "        skvideo.io.vwrite(str(e) + '.mp4', self.to_draw)\n",
    "\n",
    "    def get_frame(self,t):\n",
    "        b = np.zeros((self.grid_size,self.grid_size,3))+128\n",
    "        b[self.board>0,0] = 256\n",
    "        b[self.board < 0, 2] = 256\n",
    "        b[self.x,self.y,:]=256\n",
    "        b[-2:,:,:]=0\n",
    "        b[:,-2:,:]=0\n",
    "        b[:2,:,:]=0\n",
    "        b[:,:2,:]=0\n",
    "        \n",
    "        b =  cv2.resize(b, None, fx=self.scale, fy=self.scale, interpolation=cv2.INTER_NEAREST)\n",
    "\n",
    "        self.to_draw[t,:,:,:]=b\n",
    "\n",
    "\n",
    "    def act(self, action):\n",
    "        \"\"\"This function returns the new state, reward and decides if the\n",
    "        game ends.\"\"\"\n",
    "\n",
    "        self.get_frame(int(self.t))\n",
    "\n",
    "        self.position = np.zeros((self.grid_size, self.grid_size))\n",
    "\n",
    "        self.position[0:2,:]= -1\n",
    "        self.position[:,0:2] = -1\n",
    "        self.position[-2:, :] = -1\n",
    "        self.position[-2:, :] = -1\n",
    "\n",
    "        self.position[self.x, self.y] = 1\n",
    "        if action == 0:\n",
    "            if self.x == self.grid_size-3:\n",
    "                self.x = self.x-1\n",
    "            else:\n",
    "                self.x = self.x + 1\n",
    "        elif action == 1:\n",
    "            if self.x == 2:\n",
    "                self.x = self.x+1\n",
    "            else:\n",
    "                self.x = self.x-1\n",
    "        elif action == 2:\n",
    "            if self.y == self.grid_size - 3:\n",
    "                self.y = self.y - 1\n",
    "            else:\n",
    "                self.y = self.y + 1\n",
    "        elif action == 3:\n",
    "            if self.y == 2:\n",
    "                self.y = self.y + 1\n",
    "            else:\n",
    "                self.y = self.y - 1\n",
    "        else:\n",
    "            RuntimeError('Error: action not recognized')\n",
    "\n",
    "        self.t = self.t + 1\n",
    "        reward = self.board[self.x, self.y]\n",
    "        self.board[self.x, self.y] = 0\n",
    "        game_over = self.t > self.max_time\n",
    "        state = np.concatenate((self.board.reshape(self.grid_size, self.grid_size,1),\n",
    "                        self.position.reshape(self.grid_size, self.grid_size,1)),axis=2)\n",
    "        state = state[self.x-2:self.x+3,self.y-2:self.y+3,:]\n",
    "\n",
    "        return state, reward, game_over\n",
    "\n",
    "    def reset(self):\n",
    "        \"\"\"This function resets the game and returns the initial state\"\"\"\n",
    "\n",
    "        self.x = np.random.randint(3, self.grid_size-3, size=1)[0]\n",
    "        self.y = np.random.randint(3, self.grid_size-3, size=1)[0]\n",
    "\n",
    "\n",
    "        bonus = 0.5*np.random.binomial(1,self.temperature,size=self.grid_size**2)\n",
    "        bonus = bonus.reshape(self.grid_size,self.grid_size)\n",
    "\n",
    "        malus = -1.0*np.random.binomial(1,self.temperature,size=self.grid_size**2)\n",
    "        malus = malus.reshape(self.grid_size, self.grid_size)\n",
    "\n",
    "        self.to_draw = np.zeros((self.max_time+2, self.grid_size*self.scale, self.grid_size*self.scale, 3))\n",
    "\n",
    "\n",
    "        malus[bonus>0]=0\n",
    "\n",
    "        self.board = bonus + malus\n",
    "\n",
    "        self.position = np.zeros((self.grid_size, self.grid_size))\n",
    "        self.position[0:2,:]= -1\n",
    "        self.position[:,0:2] = -1\n",
    "        self.position[-2:, :] = -1\n",
    "        self.position[-2:, :] = -1\n",
    "        self.board[self.x,self.y] = 0\n",
    "        self.t = 0\n",
    "\n",
    "        state = np.concatenate((\n",
    "                               self.board.reshape(self.grid_size, self.grid_size,1),\n",
    "                        self.position.reshape(self.grid_size, self.grid_size,1)),axis=2)\n",
    "\n",
    "        state = state[self.x - 2:self.x + 3, self.y - 2:self.y + 3, :]\n",
    "        return state"
   ]
  },
  {
   "cell_type": "markdown",
   "metadata": {},
   "source": [
    "The following elements are important because they correspond to the hyper parameters for this project:"
   ]
  },
  {
   "cell_type": "code",
   "execution_count": 59,
   "metadata": {},
   "outputs": [],
   "source": [
    "# parameters\n",
    "size = 13\n",
    "T=200\n",
    "temperature=0.3\n",
    "epochs_train=16 # set small when debugging\n",
    "epochs_test=16 # set small when debugging\n",
    "\n",
    "# display videos\n",
    "def display_videos(name):\n",
    "    video = io.open(name, 'r+b').read()\n",
    "    encoded = base64.b64encode(video)\n",
    "    return '''<video alt=\"test\" controls>\n",
    "                <source src=\"data:video/mp4;base64,{0}\" type=\"video/mp4\" />\n",
    "             </video>'''.format(encoded.decode('ascii'))"
   ]
  },
  {
   "cell_type": "markdown",
   "metadata": {},
   "source": [
    "__Question 2__ Explain the use of the arrays ```position``` and ```board```."
   ]
  },
  {
   "cell_type": "markdown",
   "metadata": {},
   "source": [
    "The array ```position``` is the representation of the island where cells with -1 are forbidden (the borders of the island) and the cells with 1 are the ones where the rat has been or is on. The cells with 0 are the cells where the rat has never been.\n",
    "\n",
    "\n",
    "The array ```board``` is the table that holds the rewards of every cell, when the rat is on a cell at time t, it's given the reward of this cell and this cell is put equal to 0 (since the rat has taken the reward which is either cheese, poisonous or nothing).\n"
   ]
  },
  {
   "cell_type": "markdown",
   "metadata": {},
   "source": [
    "## Random Agent"
   ]
  },
  {
   "cell_type": "markdown",
   "metadata": {},
   "source": [
    "***\n",
    "__Question 3__ Implement a random Agent (only ```learned_act``` needs to be implemented):"
   ]
  },
  {
   "cell_type": "code",
   "execution_count": 60,
   "metadata": {},
   "outputs": [],
   "source": [
    "class RandomAgent(Agent):\n",
    "    def __init__(self):\n",
    "        super(RandomAgent, self).__init__()\n",
    "        pass\n",
    "\n",
    "    def learned_act(self, s):\n",
    "         return np.random.randint(0, self.n_action, size=1)[0]"
   ]
  },
  {
   "cell_type": "markdown",
   "metadata": {},
   "source": [
    "***\n",
    "***\n",
    "__Question 4__ Visualize the game moves. You need to fill in the following function for the evaluation:"
   ]
  },
  {
   "cell_type": "code",
   "execution_count": 61,
   "metadata": {},
   "outputs": [],
   "source": [
    "def test(agent,env,epochs,prefix=''):\n",
    "    # Number of won games\n",
    "    score = 0\n",
    "        \n",
    "    for e in range(epochs):\n",
    "        \n",
    "        ##### FILL IN HERE\n",
    "        # At each epoch, we restart to a fresh game and get the initial state\n",
    "        state = env.reset()\n",
    "        game_over = False\n",
    "        win = 0\n",
    "        lose = 0\n",
    "        while not game_over:\n",
    "            # The agent performs an action\n",
    "            action = agent.act(state)\n",
    "\n",
    "            # Apply an action to the environment, get the next state, the reward\n",
    "            # and if the games end\n",
    "            prev_state = state\n",
    "            state, reward, game_over = env.act(action)\n",
    "\n",
    "            # Update the counters\n",
    "            if reward > 0:\n",
    "                win = win + reward\n",
    "            if reward < 0:\n",
    "                lose = lose -reward\n",
    "\n",
    "            # Apply the reinforcement strategy\n",
    "            loss = agent.reinforce(prev_state, state,  action, reward, game_over)\n",
    "        \n",
    "        \n",
    "        # Save as a mp4\n",
    "        env.draw(prefix+str(e))\n",
    "\n",
    "        # Update stats\n",
    "        score = score + win-lose\n",
    "\n",
    "        print(\"Win/lose count {}/{}. Average score ({})\"\n",
    "              .format(win, lose, score/(1+e)))\n",
    "    print('Final score: '+str(score/epochs))"
   ]
  },
  {
   "cell_type": "code",
   "execution_count": 62,
   "metadata": {
    "scrolled": true
   },
   "outputs": [
    {
     "name": "stdout",
     "output_type": "stream",
     "text": [
      "Win/lose count 12.0/11.0. Average score (1.0)\n",
      "Win/lose count 6.5/16.0. Average score (-4.25)\n",
      "Win/lose count 7.0/13.0. Average score (-4.833333333333333)\n",
      "Win/lose count 8.0/7.0. Average score (-3.375)\n",
      "Win/lose count 11.5/20.0. Average score (-4.4)\n",
      "Win/lose count 13.5/17.0. Average score (-4.25)\n",
      "Win/lose count 9.5/14.0. Average score (-4.285714285714286)\n",
      "Win/lose count 9.5/17.0. Average score (-4.6875)\n",
      "Win/lose count 8.5/11.0. Average score (-4.444444444444445)\n",
      "Win/lose count 12.0/17.0. Average score (-4.5)\n",
      "Win/lose count 5.0/10.0. Average score (-4.545454545454546)\n",
      "Win/lose count 7.5/12.0. Average score (-4.541666666666667)\n",
      "Win/lose count 7.5/4.0. Average score (-3.923076923076923)\n",
      "Win/lose count 10.5/14.0. Average score (-3.892857142857143)\n",
      "Win/lose count 11.0/12.0. Average score (-3.7)\n",
      "Win/lose count 8.5/17.0. Average score (-4.0)\n",
      "Final score: -4.0\n"
     ]
    },
    {
     "data": {
      "text/html": [
       "<video alt=\"test\" controls>\n",
       "                <source src=\"data:video/mp4;base64,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\" type=\"video/mp4\" />\n",
       "             </video>"
      ],
      "text/plain": [
       "<IPython.core.display.HTML object>"
      ]
     },
     "execution_count": 62,
     "metadata": {},
     "output_type": "execute_result"
    }
   ],
   "source": [
    "# Initialize the game\n",
    "env = Environment(grid_size=size, max_time=T,temperature=temperature)\n",
    "\n",
    "# Initialize the agent!\n",
    "agent = RandomAgent()\n",
    "\n",
    "test(agent,env,epochs_test,prefix='random')\n",
    "HTML(display_videos('random0.mp4'))"
   ]
  },
  {
   "cell_type": "markdown",
   "metadata": {},
   "source": [
    "***\n",
    "## DQN"
   ]
  },
  {
   "cell_type": "markdown",
   "metadata": {},
   "source": [
    "Let us assume here that $T=\\infty$.\n",
    "\n",
    "***\n",
    "__Question 5__ Let $\\pi$ be a policy, show that:\n",
    "\n",
    "\\begin{equation*}\n",
    "Q^{\\pi}(s,a)=E_{(s',a')\\sim p(.|s,a)}[r(s,a)+\\gamma Q^{\\pi}(s',a')]\n",
    "\\end{equation*}\n",
    "\n",
    "Then, show that for the optimal policy $\\pi^*$ (we assume its existence), the following holds: \n",
    "\n",
    "\\begin{equation*}\n",
    "Q^{*}(s,a)=E_{s'\\sim \\pi^*(.|s,a)}[r(s,a)+\\gamma\\max_{a'}Q^{*}(s',a')].\n",
    "\\end{equation*}\n",
    "Finally, deduce that a plausible objective is:\n",
    "\n",
    "\\begin{equation*}\n",
    "\\mathcal{L}(\\theta)=E_{s' \\sim \\pi^*(.|s,a)}\\Vert r+\\gamma\\max\\max_{a'}Q(s',a',\\theta)-Q(s,a,\\theta)\\Vert^{2}.\n",
    "\\end{equation*}\n",
    "\n",
    "\n"
   ]
  },
  {
   "cell_type": "markdown",
   "metadata": {},
   "source": [
    "___Answer___\n",
    "\n",
    "Let $\\pi(.|s)$ denote the policy distribution, and $p(.|s,a)$ the transition probability distribution of states. The distribution of the couple $(s',a')$ given $(s,a)$ is given by :\n",
    "\\begin{equation*}\n",
    "p(s',a'|s,a) = \\pi(a'|s)p(s'|s,a)\n",
    "\\end{equation*}\n",
    "We write the definition of the $Q$ function:\n",
    "\n",
    "\\begin{align*}\n",
    "Q^\\pi(s,a) &= E_{p^{\\pi}}[\\sum_{t = 0}^{\\infty}\\gamma^{t}r(s_{t},a_{t})|s_{0}=s,a_{0}=a] \\\\\n",
    "&= r(s,a) + \\gamma E_{p^{\\pi}}[\\sum_{t = 0}^{\\infty}\\gamma^{t}r(s_{t+1},a_{t+1})|s_{0}=s,a_{0}=a] \\\\\n",
    "&= r(s,a) + \\gamma \\sum_{(s',a')} \\mathbb{P}(s_1 = s'|s_0 = s, a_0=a) \\pi(a_0 = a'|s_0=s) E_{p^{\\pi}}[\\sum_{t = 0}^{\\infty}\\gamma^{t}r(s_{t},a_{t})|s_{0}=s',a_{0}=a'] \\\\\n",
    "&= r(s,a) + \\gamma \\sum_{(s',a')} p(s',a'|s,a) Q^{\\pi}(s',a') \\\\\n",
    "&= r(s,a) + \\gamma E_{(s',a')\\sim p(.|s,a)}[Q^{\\pi}(s',a')] \\\\\n",
    "&= E_{(s',a')\\sim p(.|s,a)}[r(s,a)+\\gamma Q^{\\pi}(s',a')]\n",
    "\\end{align*}\n",
    "\n",
    "\n",
    "\n",
    "We now derive the expression of $Q^*$:\n",
    "\n",
    "\\begin{align*}\n",
    "Q^*(s,a) &= \\max_{\\pi} Q^{\\pi}(s,a) \\\\\n",
    "&= \\max_{\\pi} E_{(s',a')\\sim p(.|s,a)}[r(s,a)+\\gamma Q^{\\pi}(s',a')] \\\\\n",
    "&= E_{s' \\sim p(.|s, \\pi^*(s|a))}[r(s,a) + \\gamma \\max_{a'} Q^*(s',a') ]\n",
    "\\end{align*}\n"
   ]
  },
  {
   "cell_type": "markdown",
   "metadata": {},
   "source": [
    "***\n",
    "The DQN-learning algorithm relies on these derivations to train the parameters $\\theta$ of a Deep Neural Network:\n",
    "\n",
    "1. At the state $s_t$, select the action $a_t$ with best reward using $Q_t$ and store the results;\n",
    "\n",
    "2. Obtain the new state $s_{t+1}$ from the environment $p$;\n",
    "\n",
    "3. Store $(s_t,a_t,s_{t+1})$;\n",
    "\n",
    "4. Obtain $Q_{t+1}$ by minimizing  $\\mathcal{L}$ from a recovered batch from the previously stored results.\n",
    "\n",
    "***\n",
    "__Question 6__ Implement the class ```Memory``` that stores moves (in a replay buffer) via ```remember``` and provides a ```random_access``` to these. Specify a maximum memory size to avoid side effects. You can for example use a ```list()``` and set by default ```max_memory=100```."
   ]
  },
  {
   "cell_type": "code",
   "execution_count": 63,
   "metadata": {},
   "outputs": [],
   "source": [
    "class Memory(object):\n",
    "    def __init__(self, max_memory=100):\n",
    "        self.max_memory = max_memory\n",
    "        self.memory = list()\n",
    "\n",
    "    def remember(self, m):\n",
    "        if len(self.memory) < self.max_memory:\n",
    "            self.memory.append(m)\n",
    "        else:\n",
    "            self.memory.pop(0)\n",
    "            self.memory.append(m)\n",
    "\n",
    "    def random_access(self):\n",
    "        idx=np.random.randint(len(self.memory))\n",
    "        return self.memory[idx]"
   ]
  },
  {
   "cell_type": "markdown",
   "metadata": {},
   "source": [
    "***\n",
    "The pipeline we will use for training is given below:"
   ]
  },
  {
   "cell_type": "code",
   "execution_count": 64,
   "metadata": {},
   "outputs": [],
   "source": [
    "def train(agent,env,epoch,prefix=''):\n",
    "    # Number of won games\n",
    "    score = 0\n",
    "    loss = 0\n",
    "\n",
    "    for e in range(epoch):\n",
    "        # At each epoch, we restart to a fresh game and get the initial state\n",
    "        state = env.reset()\n",
    "        # This assumes that the games will terminate\n",
    "        game_over = False\n",
    "\n",
    "        win = 0\n",
    "        lose = 0\n",
    "\n",
    "        while not game_over:\n",
    "            # The agent performs an action\n",
    "            action = agent.act(state)\n",
    "\n",
    "            # Apply an action to the environment, get the next state, the reward\n",
    "            # and if the games end\n",
    "            prev_state = state\n",
    "            state, reward, game_over = env.act(action)\n",
    "\n",
    "            # Update the counters\n",
    "            if reward > 0:\n",
    "                win = win + reward\n",
    "            if reward < 0:\n",
    "                lose = lose -reward\n",
    "\n",
    "            # Apply the reinforcement strategy\n",
    "            loss = agent.reinforce(prev_state, state,  action, reward, game_over)\n",
    "\n",
    "        # Save as a mp4\n",
    "        if e % 10 == 0:\n",
    "            env.draw(prefix+str(e))\n",
    "\n",
    "        # Update stats\n",
    "        score += win-lose\n",
    "\n",
    "        print(\"Epoch {:03d}/{:03d} | Loss {:.4f} | Win/lose count {}/{} ({})\"\n",
    "              .format(e, epoch, loss, win, lose, win-lose))\n",
    "        agent.save(name_weights=prefix+'model.h5',name_model=prefix+'model.json')"
   ]
  },
  {
   "cell_type": "markdown",
   "metadata": {},
   "source": [
    "***\n",
    "__Question 7__ Implement the DQN training algorithm using a cascade of fully connected layers. You can use different learning rate, batch size or memory size parameters. In particular, the loss might oscillate while the player will start to win the games. You have to find a good criterium."
   ]
  },
  {
   "cell_type": "code",
   "execution_count": 74,
   "metadata": {},
   "outputs": [],
   "source": [
    "class DQN(Agent):\n",
    "    def __init__(self, grid_size,  epsilon = 0.1, memory_size=100, batch_size = 16,n_state=2):\n",
    "        super(DQN, self).__init__(epsilon = epsilon)\n",
    "\n",
    "        # Discount for Q learning\n",
    "        self.discount = 0.99\n",
    "        \n",
    "        self.grid_size = grid_size\n",
    "        \n",
    "        # number of state\n",
    "        self.n_state = n_state\n",
    "\n",
    "        # Memory\n",
    "        self.memory = Memory(memory_size)\n",
    "        \n",
    "        # Batch size when learning\n",
    "        self.batch_size = batch_size\n",
    "\n",
    "    def learned_act(self, s):\n",
    "         return np.argmax(self.model.predict(s.reshape(1,s.shape[0],s.shape[1],s.shape[2])))\n",
    "\n",
    "\n",
    "    def reinforce(self, s_, n_s_, a_, r_, game_over_):\n",
    "        # Two steps: first memorize the states, second learn from the pool\n",
    "\n",
    "        self.memory.remember([s_, n_s_, a_, r_, game_over_])\n",
    "        \n",
    "        input_states = np.zeros((self.batch_size, 5,5,self.n_state))\n",
    "        target_q = np.zeros((self.batch_size, 4))\n",
    "        \n",
    "        for i in range(self.batch_size):\n",
    "            ######## FILL IN\n",
    "            s, n_s, a, r, game_over = self.memory.random_access()\n",
    "            input_states[i] = s\n",
    "            target_q[i] = self.model.predict(s.reshape((1,s_.shape[0],s_.shape[1],s_.shape[2])))\n",
    "            if game_over_:\n",
    "                ######## FILL IN\n",
    "                target_q[i, a] = r\n",
    "\n",
    "            else:\n",
    "                ######## FILL IN\n",
    "                target_q[i, a] = r + self.discount * np.max( self.model.predict(n_s.reshape((1,s_.shape[0],s_.shape[1],s_.shape[2]))) )\n",
    "        ######## FILL IN\n",
    "        target_q = np.clip(target_q, -3, 3)\n",
    "        # HINT: Clip the target to avoid exploiding gradients.. -- clipping is a bit tighter\n",
    "        \n",
    "\n",
    "        l = self.model.train_on_batch(input_states, target_q)\n",
    "\n",
    "\n",
    "        return l\n",
    "\n",
    "    def save(self,name_weights='model.h5',name_model='model.json'):\n",
    "        self.model.save_weights(name_weights, overwrite=True)\n",
    "        with open(name_model, \"w\") as outfile:\n",
    "            json.dump(self.model.to_json(), outfile)\n",
    "            \n",
    "    def load(self,name_weights='model.h5',name_model='model.json'):\n",
    "        with open(name_model, \"r\") as jfile:\n",
    "            model = model_from_json(json.load(jfile))\n",
    "        model.load_weights(name_weights)\n",
    "        model.compile(\"sgd\", \"mse\")\n",
    "        self.model = model\n",
    "\n",
    "            \n",
    "class DQN_FC(DQN):\n",
    "    def __init__(self, *args, lr=0.1,**kwargs):\n",
    "        super(DQN_FC, self).__init__( *args,**kwargs)\n",
    "        \n",
    "        # NN Model\n",
    "        \n",
    "        ####### FILL IN\n",
    "        model = Sequential()\n",
    "        model.add(Dense(units=64, activation='relu', input_shape=(5,5,self.n_state)))\n",
    "        model.add(Flatten())\n",
    "        model.add(Dense(units=32, activation='relu'))\n",
    "        model.add(Dense(units=4, activation='linear'))\n",
    "        # Linear Output Layer as we are estimating a Function Q[S,A]\n",
    "\n",
    "        model.compile(loss='mse', optimizer='adam') \n",
    "        \n",
    "        model.compile(sgd(lr=lr, decay=1e-4, momentum=0.0), \"mse\")\n",
    "        self.model = model\n",
    "        "
   ]
  },
  {
   "cell_type": "code",
   "execution_count": 75,
   "metadata": {},
   "outputs": [
    {
     "name": "stdout",
     "output_type": "stream",
     "text": [
      "Epoch 000/016 | Loss 0.0053 | Win/lose count 2.0/7.0 (-5.0)\n",
      "Epoch 001/016 | Loss 0.0093 | Win/lose count 3.5/9.0 (-5.5)\n",
      "Epoch 002/016 | Loss 0.0537 | Win/lose count 2.5/1.0 (1.5)\n",
      "Epoch 003/016 | Loss 0.3470 | Win/lose count 4.0/3.0 (1.0)\n",
      "Epoch 004/016 | Loss 1.6994 | Win/lose count 1.5/1.0 (0.5)\n",
      "Epoch 005/016 | Loss 1.9750 | Win/lose count 2.0/4.0 (-2.0)\n",
      "Epoch 006/016 | Loss 1.9548 | Win/lose count 4.0/2.0 (2.0)\n",
      "Epoch 007/016 | Loss 1.9517 | Win/lose count 4.5/6.0 (-1.5)\n",
      "Epoch 008/016 | Loss 2.0025 | Win/lose count 4.0/7.0 (-3.0)\n",
      "Epoch 009/016 | Loss 1.8908 | Win/lose count 7.0/5.0 (2.0)\n",
      "Epoch 010/016 | Loss 2.0073 | Win/lose count 1.5/2.0 (-0.5)\n",
      "Epoch 011/016 | Loss 1.9854 | Win/lose count 5.0/1.0 (4.0)\n",
      "Epoch 012/016 | Loss 1.8787 | Win/lose count 3.0/2.0 (1.0)\n",
      "Epoch 013/016 | Loss 1.8450 | Win/lose count 4.0/1.0 (3.0)\n",
      "Epoch 014/016 | Loss 1.8689 | Win/lose count 5.5/4.0 (1.5)\n",
      "Epoch 015/016 | Loss 1.7245 | Win/lose count 6.0/0 (6.0)\n"
     ]
    },
    {
     "data": {
      "text/html": [
       "<video alt=\"test\" controls>\n",
       "                <source src=\"data:video/mp4;base64,AAAAIGZ0eXBpc29tAAACAGlzb21pc28yYXZjMW1wNDEAAAAIZnJlZQAAFjxtZGF0AAACrgYF//+q3EXpvebZSLeWLNgg2SPu73gyNjQgLSBjb3JlIDE0NiByMjUzOCAxMjEzOTZjIC0gSC4yNjQvTVBFRy00IEFWQyBjb2RlYyAtIENvcHlsZWZ0IDIwMDMtMjAxNSAtIGh0dHA6Ly93d3cudmlkZW9sYW4ub3JnL3gyNjQuaHRtbCAtIG9wdGlvbnM6IGNhYmFjPTEgcmVmPTMgZGVibG9jaz0xOjA6MCBhbmFseXNlPTB4MzoweDExMyBtZT1oZXggc3VibWU9NyBwc3k9MSBwc3lfcmQ9MS4wMDowLjAwIG1peGVkX3JlZj0xIG1lX3JhbmdlPTE2IGNocm9tYV9tZT0xIHRyZWxsaXM9MSA4eDhkY3Q9MSBjcW09MCBkZWFkem9uZT0yMSwxMSBmYXN0X3Bza2lwPTEgY2hyb21hX3FwX29mZnNldD00IHRocmVhZHM9MTggbG9va2FoZWFkX3RocmVhZHM9MiBzbGljZWRfdGhyZWFkcz0wIG5yPTAgZGVjaW1hdGU9MSBpbnRlcmxhY2VkPTAgYmx1cmF5X2NvbXBhdD0wIGNvbnN0cmFpbmVkX2ludHJhPTAgYmZyYW1lcz0zIGJfcHlyYW1pZD0yIGJfYWRhcHQ9MSBiX2JpYXM9MCBkaXJlY3Q9MSB3ZWlnaHRiPTEgb3Blbl9nb3A9MCB3ZWlnaHRwPTIga2V5aW50PTI1MCBrZXlpbnRfbWluPTI1IHNjZW5lY3V0PTQwIGludHJhX3JlZnJlc2g9MCByY19sb29rYWhlYWQ9NDAgcmM9Y3JmIG1idHJlZT0xIGNyZj0yMy4wIHFjb21wPTAuNjAgcXBtaW49MCBxcG1heD02OSBxcHN0ZXA9NCBpcF9yYXRpbz0xLjQwIGFxPTE6MS4wMACAAAADK2WIhAA3//72h/gU2VgTun/9P+C6zp85f52wATTYAUhuYKf6xP/+TscaX1tR8CmrpIPwKSilgzS+yokr5ZKfFvr0cvyzFLlwLMKhhtLGAo+Qfk/bDvpZQgTVgRFJgrm2/0cuNbkn/hp+f4uRmxOhvB4WQ/AaFzlCCGSolmcd/ae1WjYb5HyEJ0OywXfn46n4YMJbU0k7DaNiBcsidTIc6G2YLeT8fgRZNHsUEwPun5ipqkh10oZ+OiprwKZgYog6dP7upU16ogrFZjOBUnlDxkvDaqYj2acT/M8t/vJxToAZ0FcBKt/zhXuvI7z8pT6RaMxMhQRvuZzYpztxV3pno9j65DdpfbABYI6lNxXQU1KSN575M2MFsj2BqFDpo3XEB5e4iQRWdcBmqQiRp49hXor5a8GmXUN8FRp5uipzO/IiXBXAqt2kdclKD3E3V54wnclYEOFt9n3jzGXgDCSynXaGtv+QWUJa8DRk7ZRHP+HKjuH/gQgZ7QxKjx/3O4IpgsikMqgkRBBApAmuXTaOwVftQ2f666qLEAzpWYxVLnMcW9NKAsbY/c2OA0ZZfnsRqq00ZryOjTbLW+rkeV+Jzo2Yb3KO77/V3zkdorwqs5/fcHfhoir/rYZPGtoPkBgGjE1lVeyXoe2zU9GS6NREZHCLgj3w9GWN41lEWd0IXxwUwYrAx/YvTocjeLWqrCPJX+gC8HrUwzTbTfp16bGZVVS/TYdjq6vNWLthBHXoTJejjQ70IpEi6Pk5tc20iKPDBx3oIR1lqGNioIdBNqoTVRFo0bc8FB74mPLoYtDLLpJmes1wCy+TzuAfMBBJSOpLj3dy6s4zW4GaN5z8gGDWVWTp+bpwevKJYBJRUljSLEk/ZmaPNzEj9/6vD8nBFTDOVqTWnfb9Apsj/iV4qo6qBI6XeTbzx8zWhCDpesTH/ZNyrTEa+EDAvvaNUqCrk2PrtgOJ1KhGhy02+jDrHZwkHAaReoWoNCNCBCDikhHlTGyQII29To/lJhsS/nEi2Ogq0O1LHK63ehk/pUcCGdcm7sVVLoOl6IGhJmEmYFXXhTdgWMeLOilAB+kgETEAAAATQZohbEN//qeEAezrjU+9HPqJJwAAABpBmkI8IZMphDv//qmWA4BYboirqoHD+uxvQQAAAB1BmmZJ4Q8mUwId//6plgObpdA4f5WVOiBbi+KQcAAAABBBnoRFETwv/wGjQEV3Gi0hAAAAEAGeo3RCvwJI2BraYOCvh4EAAAAPAZ6lakK/AkhqHQmm0HNBAAAAIEGaqkmoQWiZTAh3//6plgEI8efxLDr1efAprqQ5k7iBAAAAEEGeyEURLC//AQbP0HKHR1wAAAAPAZ7ndEK/AklisYL+0HNAAAAAEAGe6WpCvwFsbcirwBP5RoEAAAAkQZruSahBbJlMCHf//qmWASe+Dn8Qj/Qf/wlPoV//5dHdc21xAAAAFUGfDEUVLC//ARbP2amZZchvtmbG4AAAAA8Bnyt0Qr8A7UYeUNAzUb0AAAAQAZ8takK/AX92o5X6xSJXwQAAAB5BmzJJqEFsmUwId//+qZYBTOw3zLLPn2+7Wl0agk8AAAAQQZ9QRRUsL/8BJqEO4+dnwAAAAA8Bn290Qr8Bk5D8b1BGsb0AAAAPAZ9xakK/AZOxA8mCLKSBAAAAE0GbdkmoQWyZTAh3//6plgAAlYAAAAAMQZ+URRUsL/8AALKAAAAAEAGfs3RCvwGOzk4jsuyo6YEAAAAPAZ+1akK/AY7OTdZ6s9GVAAAAE0GbukmoQWyZTAh3//6plgAAlYEAAAAMQZ/YRRUsL/8AALKBAAAAEAGf93RCvwGOzk4jsuyo6YAAAAAPAZ/5akK/AY7OTdZ6s9GVAAAAEkGb/kmoQWyZTAhv//6nhAABJwAAAAxBnhxFFSwv/wAAsoEAAAAQAZ47dEK/AY7OTiOy7KjpgQAAAA8Bnj1qQr8Bjs5N1nqz0ZUAAAAcQZo/SahBbJlMCHf//qmWAUztqAf3hagn50JCwAAAABVBmkNJ4QpSZTAh3/6plgYfRz7WwU0AAAAOQZ5hRTRML/8B6fsgWUAAAAAQAZ6AdEK/ApJAHP10DiyRgQAAAA8BnoJqQr8Bk6yhoXqNlJAAAAAjQZqHSahBaJlMCHf//qmWATfPMh3KE+BTD//8JVQzf/+go/MAAAAQQZ6lRREsL/8BHs/c4WT5uQAAAA8BnsR0Qr8Bk1CBzYyFR00AAAAQAZ7GakK/AZNK2LDWGSPh4QAAABtBmstJqEFsmUwId//+qZYBNBOg94CAP7+ss1IAAAAQQZ7pRRUsL/8BHqA5eRPm4AAAABABnwh0Qr8BiZNCJ8WYo1BxAAAADwGfCmpCvwGTBY2BymykgAAAABNBmw9JqEFsmUwId//+qZYAAJWAAAAADEGfLUUVLC//AACygQAAAA8Bn0x0Qr8BhSvdyPWmo7sAAAAPAZ9OakK/AZMFjRK55dGVAAAAE0GbU0moQWyZTAh3//6plgAAlYAAAAAMQZ9xRRUsL/8AALKAAAAAEAGfkHRCvwGTeTdHbfCo6YEAAAAPAZ+SakK/AZMFjRK55dGVAAAAE0Gbl0moQWyZTAh3//6plgAAlYAAAAAMQZ+1RRUsL/8AALKBAAAAEAGf1HRCvwGTeTdHbfCo6YAAAAAPAZ/WakK/AZMFjRK55dGVAAAAE0Gb20moQWyZTAh3//6plgAAlYEAAAAMQZ/5RRUsL/8AALKAAAAAEAGeGHRCvwGTeTdHbfCo6YEAAAAPAZ4aakK/AZMFjRK55dGVAAAAE0GaH0moQWyZTAh3//6plgAAlYEAAAAMQZ49RRUsL/8AALKBAAAAEAGeXHRCvwGTeTdHbfCo6YAAAAAPAZ5eakK/AZMFjRK55dGVAAAAE0GaQ0moQWyZTAh3//6plgAAlYEAAAAMQZ5hRRUsL/8AALKAAAAAEAGegHRCvwGTeTdHbfCo6YEAAAAPAZ6CakK/AZMFjRK55dGVAAAAE0Gah0moQWyZTAh3//6plgAAlYEAAAAMQZ6lRRUsL/8AALKBAAAAEAGexHRCvwGTeTdHbfCo6YEAAAAPAZ7GakK/AZMFjRK55dGVAAAAE0Gay0moQWyZTAh3//6plgAAlYAAAAAMQZ7pRRUsL/8AALKAAAAAEAGfCHRCvwGTeTdHbfCo6YEAAAAPAZ8KakK/AZMFjRK55dGVAAAAEkGbD0moQWyZTAhv//6nhAABJwAAAAxBny1FFSwv/wAAsoEAAAAQAZ9MdEK/AZN5N0dt8KjpgQAAAA8Bn05qQr8BhSvc5SO5ZU0AAAArQZtTSahBbJlMCG///qeEAmmZXM2ReAUwH//CVEFmL//CTEfi//1/5ZyXkAAAABBBn3FFFSwv/wEe0EgR+dqQAAAADwGfkHRCvwGTeTeecWjKgQAAAA8Bn5JqQr8BiSL5m2ZGsccAAAAaQZuUSahBbJlMCG///qeEAkEVo6PuNlqmMCAAAAAXQZu1SeEKUmUwId/+qZYBNC460v6kiRsAAAASQZvZSeEOiZTAh3/+qZYAAJWAAAAADEGf90URPC//AACygQAAABABnhZ0Qr8Bk3k3R23wqOmBAAAADwGeGGpCvwGFK+BG6/v2DgAAABxBmh1JqEFomUwId//+qZYG0lmLTM91N2l9cZbRAAAAEEGeO0URLC//AgHfHc57YuAAAAAPAZ5adEK/AZN5N55xaMqBAAAADwGeXGpCvwKvZ0fhs2jx9wAAABhBmkFJqEFsmUwId//+qZYG2Tm70qATNmAAAAAQQZ5/RRUsL/8CASA7UW2LgAAAABABnp50Qr8CrdWjJKnRkuOBAAAADwGegGpCvwGJsQPJgiypgAAAABNBmoVJqEFsmUwId//+qZYAAJWBAAAADEGeo0UVLC//AACygAAAABABnsJ0Qr8Bk3k3R23wqOmBAAAADwGexGpCvwGTBY0SueXRlQAAABNBmslJqEFsmUwId//+qZYAAJWBAAAADEGe50UVLC//AACygQAAABABnwZ0Qr8CkkAc/XQOLJGAAAAADwGfCGpCvwGTBY0SueXRlQAAABNBmw1JqEFsmUwId//+qZYAAJWBAAAADEGfK0UVLC//AACygAAAABABn0p0Qr8Bk3k3R23wqOmAAAAADwGfTGpCvwGTBY0SueXRlQAAABNBm1FJqEFsmUwId//+qZYAAJWBAAAADEGfb0UVLC//AACygQAAABABn450Qr8Bk3k3R23wqOmAAAAADwGfkGpCvwGTBY0SueXRlQAAABxBm5VJqEFsmUwId//+qZYG0lmLTM91N2l9cZbRAAAAEEGfs0UVLC//AgHfHc57YuAAAAAPAZ/SdEK/AZN5N55xaMqAAAAADwGf1GpCvwKvZ0fhs2jx9wAAABhBm9lJqEFsmUwId//+qZYG2Tm70qATNmAAAAAQQZ/3RRUsL/8CASA7UW2LgQAAAA8BnhZ0Qr8CrdkLbe5E8fcAAAAPAZ4YakK/AZMFjYHKbKSAAAAAE0GaHUmoQWyZTAh3//6plgAAlYEAAAAMQZ47RRUsL/8AALKAAAAAEAGeWnRCvwKSQBz9dA4skYEAAAAPAZ5cakK/AYUr3OUjuWVNAAAAE0GaQUmoQWyZTAh3//6plgAAlYAAAAAMQZ5/RRUsL/8AALKAAAAAEAGennRCvwGTeTdHbfCo6YEAAAAPAZ6AakK/AZMFjRK55dGVAAAAE0GahUmoQWyZTAh3//6plgAAlYEAAAAMQZ6jRRUsL/8AALKAAAAAEAGewnRCvwGTeTdHbfCo6YEAAAAPAZ7EakK/AZMFjRK55dGVAAAAE0GayUmoQWyZTAh3//6plgAAlYEAAAAMQZ7nRRUsL/8AALKBAAAAEAGfBnRCvwGTeTdHbfCo6YAAAAAPAZ8IakK/AZMFjRK55dGVAAAAE0GbDUmoQWyZTAh3//6plgAAlYEAAAAMQZ8rRRUsL/8AALKAAAAAEAGfSnRCvwGTeTdHbfCo6YAAAAAPAZ9MakK/AZMFjRK55dGVAAAAE0GbUUmoQWyZTAh3//6plgAAlYEAAAAMQZ9vRRUsL/8AALKBAAAAEAGfjnRCvwGTeTdHbfCo6YAAAAAPAZ+QakK/AZMFjRK55dGVAAAAE0GblUmoQWyZTAh3//6plgAAlYEAAAAMQZ+zRRUsL/8AALKAAAAADwGf0nRCvwGFK+BbAflnjQAAABABn9RqQr8CkNa7qq89EtaBAAAAE0Gb2UmoQWyZTAh3//6plgAAlYAAAAAMQZ/3RRUsL/8AALKBAAAAEAGeFnRCvwGTeTdHbfCo6YEAAAAPAZ4YakK/AZMFjRK55dGVAAAAE0GaHUmoQWyZTAh3//6plgAAlYEAAAAMQZ47RRUsL/8AALKAAAAADwGeWnRCvwGFK+BbAflnjQAAAA8BnlxqQr8BhSvgRuv79g8AAAATQZpBSahBbJlMCHf//qmWAACVgAAAAAxBnn9FFSwv/wAAsoAAAAAQAZ6edEK/ApJAHP10DiyRgQAAAA8BnoBqQr8BhSvgRuv79g4AAAATQZqFSahBbJlMCHf//qmWAACVgQAAAAxBnqNFFSwv/wAAsoAAAAAQAZ7CdEK/ApJAHP10DiyRgQAAAA8BnsRqQr8BhSvgRuv79g8AAAATQZrJSahBbJlMCHf//qmWAACVgQAAAAxBnudFFSwv/wAAsoEAAAAQAZ8GdEK/ApJAHP10DiyRgAAAAA8BnwhqQr8BhSvgRuv79g4AAAATQZsNSahBbJlMCHf//qmWAACVgQAAAAxBnytFFSwv/wAAsoAAAAAPAZ9KdEK/AYUr4FsB+WeNAAAADwGfTGpCvwGFK+BG6/v2DwAAABNBm1FJqEFsmUwId//+qZYAAJWBAAAADEGfb0UVLC//AACygQAAABABn450Qr8Bk3k3R23wqOmAAAAADwGfkGpCvwGTBY0SueXRlQAAABNBm5VJqEFsmUwId//+qZYAAJWBAAAADEGfs0UVLC//AACygAAAABABn9J0Qr8Bk3k3R23wqOmAAAAADwGf1GpCvwGFK+BG6/v2DwAAABNBm9lJqEFsmUwId//+qZYAAJWAAAAADEGf90UVLC//AACygQAAAA8BnhZ0Qr8BhSvgWwH5Z40AAAAPAZ4YakK/AYUr4Ebr+/YOAAAAE0GaHUmoQWyZTAh3//6plgAAlYEAAAAMQZ47RRUsL/8AALKAAAAADwGeWnRCvwGFK+BbAflnjQAAAA8BnlxqQr8BhSvgRuv79g8AAAASQZpBSahBbJlMCG///qeEAAEnAAAADEGef0UVLC//AACygAAAABABnp50Qr8Bk3k3R23wqOmBAAAADwGegGpCvwGFK9zlI7llTAAAABJBmoVJqEFsmUwIZ//+nhAABH0AAAAMQZ6jRRUsL/8AALKAAAAAEAGewnRCvwGTeTdHbfCo6YEAAAAPAZ7EakK/AZMFjRK55dGVAAAAGkGayUuoQhBbJEYIKAfyAf2HgCFf/jhAABFxAAAAI0Ge50UVLC//AgHc6kvbMwq5gOgatahcCUAZaJPC3zKTNJwxAAAADwGfBnRCvwGFK+BbAflnjQAAACQBnwhqQr8Cr2Q8sYhqswqoWU02Jm17TcPVssQJHAyBZtchDSQAAAxxbW9vdgAAAGxtdmhkAAAAAAAAAAAAAAAAAAAD6AAAH5AAAQAAAQAAAAAAAAAAAAAAAAEAAAAAAAAAAAAAAAAAAAABAAAAAAAAAAAAAAAAAABAAAAAAAAAAAAAAAAAAAAAAAAAAAAAAAAAAAAAAAAAAgAAC5t0cmFrAAAAXHRraGQAAAADAAAAAAAAAAAAAAABAAAAAAAAH5AAAAAAAAAAAAAAAAAAAAAAAAEAAAAAAAAAAAAAAAAAAAABAAAAAAAAAAAAAAAAAABAAAAAARAAAAEQAAAAAAAkZWR0cwAAABxlbHN0AAAAAAAAAAEAAB+QAAAEAAABAAAAAAsTbWRpYQAAACBtZGhkAAAAAAAAAAAAAAAAAAAyAAABlABVxAAAAAAALWhkbHIAAAAAAAAAAHZpZGUAAAAAAAAAAAAAAABWaWRlb0hhbmRsZXIAAAAKvm1pbmYAAAAUdm1oZAAAAAEAAAAAAAAAAAAAACRkaW5mAAAAHGRyZWYAAAAAAAAAAQAAAAx1cmwgAAAAAQAACn5zdGJsAAAAlnN0c2QAAAAAAAAAAQAAAIZhdmMxAAAAAAAAAAEAAAAAAAAAAAAAAAAAAAAAARABEABIAAAASAAAAAAAAAABAAAAAAAAAAAAAAAAAAAAAAAAAAAAAAAAAAAAAAAAAAAAGP//AAAAMGF2Y0MB9AAN/+EAF2f0AA2RmygiEdCAAAADAIAAABkHihTLAQAGaOvjxEhEAAAAGHN0dHMAAAAAAAAAAQAAAMoAAAIAAAAAFHN0c3MAAAAAAAAAAQAAAAEAAAZIY3R0cwAAAAAAAADHAAAAAwAABAAAAAABAAAKAAAAAAEAAAQAAAAAAQAAAAAAAAABAAACAAAAAAEAAAoAAAAAAQAABAAAAAABAAAAAAAAAAEAAAIAAAAAAQAACgAAAAABAAAEAAAAAAEAAAAAAAAAAQAAAgAAAAABAAAKAAAAAAEAAAQAAAAAAQAAAAAAAAABAAACAAAAAAEAAAoAAAAAAQAABAAAAAABAAAAAAAAAAEAAAIAAAAAAQAACgAAAAABAAAEAAAAAAEAAAAAAAAAAQAAAgAAAAABAAAKAAAAAAEAAAQAAAAAAQAAAAAAAAABAAACAAAAAAEAAAQAAAAAAQAACgAAAAABAAAEAAAAAAEAAAAAAAAAAQAAAgAAAAABAAAKAAAAAAEAAAQAAAAAAQAAAAAAAAABAAACAAAAAAEAAAoAAAAAAQAABAAAAAABAAAAAAAAAAEAAAIAAAAAAQAACgAAAAABAAAEAAAAAAEAAAAAAAAAAQAAAgAAAAABAAAKAAAAAAEAAAQAAAAAAQAAAAAAAAABAAACAAAAAAEAAAoAAAAAAQAABAAAAAABAAAAAAAAAAEAAAIAAAAAAQAACgAAAAABAAAEAAAAAAEAAAAAAAAAAQAAAgAAAAABAAAKAAAAAAEAAAQAAAAAAQAAAAAAAAABAAACAAAAAAEAAAoAAAAAAQAABAAAAAABAAAAAAAAAAEAAAIAAAAAAQAACgAAAAABAAAEAAAAAAEAAAAAAAAAAQAAAgAAAAABAAAKAAAAAAEAAAQAAAAAAQAAAAAAAAABAAACAAAAAAEAAAoAAAAAAQAABAAAAAABAAAAAAAAAAEAAAIAAAAAAQAACgAAAAABAAAEAAAAAAEAAAAAAAAAAQAAAgAAAAACAAAEAAAAAAEAAAoAAAAAAQAABAAAAAABAAAAAAAAAAEAAAIAAAAAAQAACgAAAAABAAAEAAAAAAEAAAAAAAAAAQAAAgAAAAABAAAKAAAAAAEAAAQAAAAAAQAAAAAAAAABAAACAAAAAAEAAAoAAAAAAQAABAAAAAABAAAAAAAAAAEAAAIAAAAAAQAACgAAAAABAAAEAAAAAAEAAAAAAAAAAQAAAgAAAAABAAAKAAAAAAEAAAQAAAAAAQAAAAAAAAABAAACAAAAAAEAAAoAAAAAAQAABAAAAAABAAAAAAAAAAEAAAIAAAAAAQAACgAAAAABAAAEAAAAAAEAAAAAAAAAAQAAAgAAAAABAAAKAAAAAAEAAAQAAAAAAQAAAAAAAAABAAACAAAAAAEAAAoAAAAAAQAABAAAAAABAAAAAAAAAAEAAAIAAAAAAQAACgAAAAABAAAEAAAAAAEAAAAAAAAAAQAAAgAAAAABAAAKAAAAAAEAAAQAAAAAAQAAAAAAAAABAAACAAAAAAEAAAoAAAAAAQAABAAAAAABAAAAAAAAAAEAAAIAAAAAAQAACgAAAAABAAAEAAAAAAEAAAAAAAAAAQAAAgAAAAABAAAKAAAAAAEAAAQAAAAAAQAAAAAAAAABAAACAAAAAAEAAAoAAAAAAQAABAAAAAABAAAAAAAAAAEAAAIAAAAAAQAACgAAAAABAAAEAAAAAAEAAAAAAAAAAQAAAgAAAAABAAAKAAAAAAEAAAQAAAAAAQAAAAAAAAABAAACAAAAAAEAAAoAAAAAAQAABAAAAAABAAAAAAAAAAEAAAIAAAAAAQAACgAAAAABAAAEAAAAAAEAAAAAAAAAAQAAAgAAAAABAAAKAAAAAAEAAAQAAAAAAQAAAAAAAAABAAACAAAAAAEAAAoAAAAAAQAABAAAAAABAAAAAAAAAAEAAAIAAAAAAQAACgAAAAABAAAEAAAAAAEAAAAAAAAAAQAAAgAAAAABAAAKAAAAAAEAAAQAAAAAAQAAAAAAAAABAAACAAAAAAEAAAoAAAAAAQAABAAAAAABAAAAAAAAAAEAAAIAAAAAAQAACgAAAAABAAAEAAAAAAEAAAAAAAAAAQAAAgAAAAABAAAKAAAAAAEAAAQAAAAAAQAAAAAAAAABAAACAAAAAAEAAAoAAAAAAQAABAAAAAABAAAAAAAAAAEAAAIAAAAAAQAACgAAAAABAAAEAAAAAAEAAAAAAAAAAQAAAgAAAAAcc3RzYwAAAAAAAAABAAAAAQAAAMoAAAABAAADPHN0c3oAAAAAAAAAAAAAAMoAAAXhAAAAFwAAAB4AAAAhAAAAFAAAABQAAAATAAAAJAAAABQAAAATAAAAFAAAACgAAAAZAAAAEwAAABQAAAAiAAAAFAAAABMAAAATAAAAFwAAABAAAAAUAAAAEwAAABcAAAAQAAAAFAAAABMAAAAWAAAAEAAAABQAAAATAAAAIAAAABkAAAASAAAAFAAAABMAAAAnAAAAFAAAABMAAAAUAAAAHwAAABQAAAAUAAAAEwAAABcAAAAQAAAAEwAAABMAAAAXAAAAEAAAABQAAAATAAAAFwAAABAAAAAUAAAAEwAAABcAAAAQAAAAFAAAABMAAAAXAAAAEAAAABQAAAATAAAAFwAAABAAAAAUAAAAEwAAABcAAAAQAAAAFAAAABMAAAAXAAAAEAAAABQAAAATAAAAFgAAABAAAAAUAAAAEwAAAC8AAAAUAAAAEwAAABMAAAAeAAAAGwAAABYAAAAQAAAAFAAAABMAAAAgAAAAFAAAABMAAAATAAAAHAAAABQAAAAUAAAAEwAAABcAAAAQAAAAFAAAABMAAAAXAAAAEAAAABQAAAATAAAAFwAAABAAAAAUAAAAEwAAABcAAAAQAAAAFAAAABMAAAAgAAAAFAAAABMAAAATAAAAHAAAABQAAAATAAAAEwAAABcAAAAQAAAAFAAAABMAAAAXAAAAEAAAABQAAAATAAAAFwAAABAAAAAUAAAAEwAAABcAAAAQAAAAFAAAABMAAAAXAAAAEAAAABQAAAATAAAAFwAAABAAAAAUAAAAEwAAABcAAAAQAAAAEwAAABQAAAAXAAAAEAAAABQAAAATAAAAFwAAABAAAAATAAAAEwAAABcAAAAQAAAAFAAAABMAAAAXAAAAEAAAABQAAAATAAAAFwAAABAAAAAUAAAAEwAAABcAAAAQAAAAEwAAABMAAAAXAAAAEAAAABQAAAATAAAAFwAAABAAAAAUAAAAEwAAABcAAAAQAAAAEwAAABMAAAAXAAAAEAAAABMAAAATAAAAFgAAABAAAAAUAAAAEwAAABYAAAAQAAAAFAAAABMAAAAeAAAAJwAAABMAAAAoAAAAFHN0Y28AAAAAAAAAAQAAADAAAABidWR0YQAAAFptZXRhAAAAAAAAACFoZGxyAAAAAAAAAABtZGlyYXBwbAAAAAAAAAAAAAAAAC1pbHN0AAAAJal0b28AAAAdZGF0YQAAAAEAAAAATGF2ZjU2LjM2LjEwMA==\" type=\"video/mp4\" />\n",
       "             </video>"
      ],
      "text/plain": [
       "<IPython.core.display.HTML object>"
      ]
     },
     "execution_count": 75,
     "metadata": {},
     "output_type": "execute_result"
    }
   ],
   "source": [
    "env = Environment(grid_size=size, max_time=T, temperature=0.3)\n",
    "agent = DQN_FC(size, lr=.1, epsilon = 0.1, memory_size=2000, batch_size = 32)\n",
    "train(agent, env, epochs_train, prefix='fc_train')\n",
    "HTML(display_videos('fc_train10.mp4'))"
   ]
  },
  {
   "cell_type": "markdown",
   "metadata": {},
   "source": [
    "***\n",
    "***\n",
    "__Question 8__ Implement the DQN training algorithm using a CNN (for example, 2 convolutional layers and one final fully connected layer)."
   ]
  },
  {
   "cell_type": "code",
   "execution_count": 76,
   "metadata": {},
   "outputs": [],
   "source": [
    "class DQN_CNN(DQN):\n",
    "    def __init__(self, *args,lr=0.1,**kwargs):\n",
    "        super(DQN_CNN, self).__init__(*args,**kwargs)\n",
    "        \n",
    "        ###### FILL IN\n",
    "        model = Sequential()\n",
    "        model.add(Conv2D(64, (3, 3), activation='relu',input_shape=(5, 5, self.n_state)))\n",
    "        model.add(Conv2D(32, (3, 3), activation='relu'))\n",
    "        #model.add(AveragePooling2D(pool_size=(2, 2), strides=None, padding='valid', data_format=None))\n",
    "        model.add(Flatten())\n",
    "        model.add(Dense(units=4, activation='linear'))\n",
    "        model.compile(sgd(lr=lr, decay=1e-4, momentum=0.0), \"mse\")\n",
    "        self.model = model"
   ]
  },
  {
   "cell_type": "code",
   "execution_count": 77,
   "metadata": {},
   "outputs": [
    {
     "name": "stdout",
     "output_type": "stream",
     "text": [
      "Epoch 000/016 | Loss 0.0067 | Win/lose count 2.0/7.0 (-5.0)\n",
      "Epoch 001/016 | Loss 0.0205 | Win/lose count 3.0/3.0 (0.0)\n",
      "Epoch 002/016 | Loss 0.0423 | Win/lose count 0.5/1.0 (-0.5)\n",
      "Epoch 003/016 | Loss 0.0586 | Win/lose count 2.0/2.0 (0.0)\n",
      "Epoch 004/016 | Loss 0.1268 | Win/lose count 4.0/5.0 (-1.0)\n",
      "Epoch 005/016 | Loss 0.2762 | Win/lose count 3.5/4.0 (-0.5)\n",
      "Epoch 006/016 | Loss 0.5249 | Win/lose count 3.5/3.0 (0.5)\n",
      "Epoch 007/016 | Loss 1.2959 | Win/lose count 4.5/2.0 (2.5)\n",
      "Epoch 008/016 | Loss 1.7385 | Win/lose count 2.0/5.0 (-3.0)\n",
      "Epoch 009/016 | Loss 1.8821 | Win/lose count 7.0/1.0 (6.0)\n",
      "Epoch 010/016 | Loss 1.9180 | Win/lose count 4.5/0 (4.5)\n",
      "Epoch 011/016 | Loss 1.8940 | Win/lose count 3.5/5.0 (-1.5)\n",
      "Epoch 012/016 | Loss 2.0173 | Win/lose count 5.0/3.0 (2.0)\n",
      "Epoch 013/016 | Loss 1.8461 | Win/lose count 4.5/1.0 (3.5)\n",
      "Epoch 014/016 | Loss 1.8090 | Win/lose count 12.0/4.0 (8.0)\n",
      "Epoch 015/016 | Loss 1.8681 | Win/lose count 11.0/3.0 (8.0)\n"
     ]
    },
    {
     "data": {
      "text/html": [
       "<video alt=\"test\" controls>\n",
       "                <source src=\"data:video/mp4;base64,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\" type=\"video/mp4\" />\n",
       "             </video>"
      ],
      "text/plain": [
       "<IPython.core.display.HTML object>"
      ]
     },
     "execution_count": 77,
     "metadata": {},
     "output_type": "execute_result"
    }
   ],
   "source": [
    "env = Environment(grid_size=size, max_time=T, temperature=0.3)\n",
    "agent = DQN_CNN(size, lr=.1, epsilon = 0.1, memory_size=2000, batch_size = 32)\n",
    "train(agent,env,epochs_train,prefix='cnn_train')\n",
    "HTML(display_videos('cnn_train10.mp4'))"
   ]
  },
  {
   "cell_type": "markdown",
   "metadata": {},
   "source": [
    "***\n",
    "***\n",
    "__Question 9__ Test both algorithms and compare their performances. Which issue(s) do you observe? Observe also different behaviors by changing the temperature."
   ]
  },
  {
   "cell_type": "markdown",
   "metadata": {},
   "source": [
    "***Temperature=0.3***"
   ]
  },
  {
   "cell_type": "code",
   "execution_count": 78,
   "metadata": {},
   "outputs": [
    {
     "name": "stdout",
     "output_type": "stream",
     "text": [
      "Test of the CNN\n",
      "Win/lose count 3.5/1.0. Average score (2.5)\n",
      "Win/lose count 8.0/3.0. Average score (3.75)\n",
      "Win/lose count 8.0/2.0. Average score (4.5)\n",
      "Win/lose count 9.5/2.0. Average score (5.25)\n",
      "Win/lose count 4.0/6.0. Average score (3.8)\n",
      "Win/lose count 3.5/2.0. Average score (3.4166666666666665)\n",
      "Win/lose count 12.5/2.0. Average score (4.428571428571429)\n",
      "Win/lose count 6.5/1.0. Average score (4.5625)\n",
      "Win/lose count 3.5/0. Average score (4.444444444444445)\n",
      "Win/lose count 6.0/0. Average score (4.6)\n",
      "Win/lose count 6.5/0. Average score (4.7727272727272725)\n",
      "Win/lose count 12.0/3.0. Average score (5.125)\n",
      "Win/lose count 9.5/3.0. Average score (5.230769230769231)\n",
      "Win/lose count 10.0/5.0. Average score (5.214285714285714)\n",
      "Win/lose count 9.0/3.0. Average score (5.266666666666667)\n",
      "Win/lose count 5.5/5.0. Average score (4.96875)\n",
      "Final score: 4.96875\n",
      "Test of the FC\n",
      "Win/lose count 2.0/4.0. Average score (-2.0)\n",
      "Win/lose count 4.5/2.0. Average score (0.25)\n",
      "Win/lose count 3.0/4.0. Average score (-0.16666666666666666)\n",
      "Win/lose count 3.5/3.0. Average score (0.0)\n",
      "Win/lose count 4.5/2.0. Average score (0.5)\n",
      "Win/lose count 6.0/2.0. Average score (1.0833333333333333)\n",
      "Win/lose count 5.5/6.0. Average score (0.8571428571428571)\n",
      "Win/lose count 9.0/1.0. Average score (1.75)\n",
      "Win/lose count 7.0/4.0. Average score (1.8888888888888888)\n",
      "Win/lose count 9.0/3.0. Average score (2.3)\n",
      "Win/lose count 7.5/2.0. Average score (2.590909090909091)\n",
      "Win/lose count 4.5/7.0. Average score (2.1666666666666665)\n",
      "Win/lose count 2.5/4.0. Average score (1.8846153846153846)\n",
      "Win/lose count 9.5/5.0. Average score (2.0714285714285716)\n",
      "Win/lose count 16.0/5.0. Average score (2.6666666666666665)\n",
      "Win/lose count 8.0/1.0. Average score (2.9375)\n",
      "Final score: 2.9375\n"
     ]
    }
   ],
   "source": [
    "env = Environment(grid_size=size, max_time=T,temperature=0.3)\n",
    "agent_cnn = DQN_CNN(size, lr=.1, epsilon = 0.1, memory_size=2000, batch_size = 32)\n",
    "agent_cnn.load(name_weights='cnn_trainmodel.h5',name_model='cnn_trainmodel.json')\n",
    "\n",
    "agent_fc = DQN_FC(size, lr=.1, epsilon = 0.1, memory_size=2000, batch_size = 32)\n",
    "agent_cnn.load(name_weights='fc_trainmodel.h5',name_model='fc_trainmodel.json')\n",
    "print('Test of the CNN')\n",
    "test(agent_cnn,env,epochs_test,prefix='cnn_test')\n",
    "print('Test of the FC')\n",
    "test(agent_fc,env,epochs_test,prefix='fc_test')"
   ]
  },
  {
   "cell_type": "markdown",
   "metadata": {},
   "source": [
    "***Temperature=0.9***"
   ]
  },
  {
   "cell_type": "code",
   "execution_count": 81,
   "metadata": {},
   "outputs": [
    {
     "name": "stdout",
     "output_type": "stream",
     "text": [
      "Test of the CNN\n",
      "Win/lose count 10.5/1.0. Average score (9.5)\n",
      "Win/lose count 6.5/1.0. Average score (7.5)\n",
      "Win/lose count 47.5/3.0. Average score (19.833333333333332)\n",
      "Win/lose count 34.0/2.0. Average score (22.875)\n",
      "Win/lose count 32.0/3.0. Average score (24.1)\n",
      "Win/lose count 24.5/2.0. Average score (23.833333333333332)\n",
      "Win/lose count 39.5/3.0. Average score (25.642857142857142)\n",
      "Win/lose count 44.5/2.0. Average score (27.75)\n",
      "Win/lose count 21.5/4.0. Average score (26.61111111111111)\n",
      "Win/lose count 32.0/0. Average score (27.15)\n",
      "Win/lose count 40.0/0. Average score (28.318181818181817)\n",
      "Win/lose count 47.5/2.0. Average score (29.75)\n",
      "Win/lose count 31.5/3.0. Average score (29.653846153846153)\n",
      "Win/lose count 32.5/0. Average score (29.857142857142858)\n",
      "Win/lose count 28.5/2.0. Average score (29.633333333333333)\n",
      "Win/lose count 40.0/0. Average score (30.28125)\n",
      "Final score: 30.28125\n",
      "Test of the FC\n",
      "Win/lose count 9.0/2.0. Average score (7.0)\n",
      "Win/lose count 22.0/2.0. Average score (13.5)\n",
      "Win/lose count 15.0/0. Average score (14.0)\n",
      "Win/lose count 7.5/1.0. Average score (12.125)\n",
      "Win/lose count 12.5/1.0. Average score (12.0)\n",
      "Win/lose count 11.0/2.0. Average score (11.5)\n",
      "Win/lose count 47.5/2.0. Average score (16.357142857142858)\n",
      "Win/lose count 40.5/4.0. Average score (18.875)\n",
      "Win/lose count 16.5/0. Average score (18.61111111111111)\n",
      "Win/lose count 17.5/3.0. Average score (18.2)\n",
      "Win/lose count 36.0/1.0. Average score (19.727272727272727)\n",
      "Win/lose count 34.0/4.0. Average score (20.583333333333332)\n",
      "Win/lose count 28.0/5.0. Average score (20.76923076923077)\n",
      "Win/lose count 42.5/2.0. Average score (22.178571428571427)\n",
      "Win/lose count 25.0/0. Average score (22.366666666666667)\n",
      "Win/lose count 31.0/4.0. Average score (22.65625)\n",
      "Final score: 22.65625\n"
     ]
    }
   ],
   "source": [
    "env = Environment(grid_size=size, max_time=T,temperature=0.9)\n",
    "agent_cnn = DQN_CNN(size, lr=.1, epsilon = 0.1, memory_size=2000, batch_size = 32)\n",
    "agent_cnn.load(name_weights='cnn_trainmodel.h5',name_model='cnn_trainmodel.json')\n",
    "\n",
    "agent_fc = DQN_FC(size, lr=.1, epsilon = 0.1, memory_size=2000, batch_size = 32)\n",
    "agent_cnn.load(name_weights='fc_trainmodel.h5',name_model='fc_trainmodel.json')\n",
    "print('Test of the CNN')\n",
    "test(agent_cnn,env,epochs_test,prefix='cnn_test')\n",
    "print('Test of the FC')\n",
    "test(agent_fc,env,epochs_test,prefix='fc_test')"
   ]
  },
  {
   "cell_type": "markdown",
   "metadata": {},
   "source": [
    "***Temperature = 0.1***"
   ]
  },
  {
   "cell_type": "code",
   "execution_count": 82,
   "metadata": {},
   "outputs": [
    {
     "name": "stdout",
     "output_type": "stream",
     "text": [
      "Test of the CNN\n",
      "Win/lose count 1.5/0. Average score (1.5)\n",
      "Win/lose count 1.5/2.0. Average score (0.5)\n",
      "Win/lose count 0/1.0. Average score (0.0)\n",
      "Win/lose count 2.0/0. Average score (0.5)\n",
      "Win/lose count 1.0/0. Average score (0.6)\n",
      "Win/lose count 2.0/2.0. Average score (0.5)\n",
      "Win/lose count 2.0/0. Average score (0.7142857142857143)\n",
      "Win/lose count 2.0/2.0. Average score (0.625)\n",
      "Win/lose count 5.5/1.0. Average score (1.0555555555555556)\n",
      "Win/lose count 1.5/2.0. Average score (0.9)\n",
      "Win/lose count 4.5/1.0. Average score (1.1363636363636365)\n",
      "Win/lose count 1.0/0. Average score (1.125)\n",
      "Win/lose count 3.5/1.0. Average score (1.2307692307692308)\n",
      "Win/lose count 4.5/2.0. Average score (1.3214285714285714)\n",
      "Win/lose count 2.0/0. Average score (1.3666666666666667)\n",
      "Win/lose count 2.0/1.0. Average score (1.34375)\n",
      "Final score: 1.34375\n",
      "Test of the FC\n",
      "Win/lose count 0.5/5.0. Average score (-4.5)\n",
      "Win/lose count 0.5/1.0. Average score (-2.5)\n",
      "Win/lose count 1.5/0. Average score (-1.1666666666666667)\n",
      "Win/lose count 0.5/1.0. Average score (-1.0)\n",
      "Win/lose count 0.5/1.0. Average score (-0.9)\n",
      "Win/lose count 2.5/3.0. Average score (-0.8333333333333334)\n",
      "Win/lose count 1.0/1.0. Average score (-0.7142857142857143)\n",
      "Win/lose count 1.5/4.0. Average score (-0.9375)\n",
      "Win/lose count 1.0/0. Average score (-0.7222222222222222)\n",
      "Win/lose count 1.5/1.0. Average score (-0.6)\n",
      "Win/lose count 0.5/2.0. Average score (-0.6818181818181818)\n",
      "Win/lose count 1.0/1.0. Average score (-0.625)\n",
      "Win/lose count 0.5/3.0. Average score (-0.7692307692307693)\n",
      "Win/lose count 1.0/1.0. Average score (-0.7142857142857143)\n",
      "Win/lose count 0/1.0. Average score (-0.7333333333333333)\n",
      "Win/lose count 0.5/0. Average score (-0.65625)\n",
      "Final score: -0.65625\n"
     ]
    }
   ],
   "source": [
    "env = Environment(grid_size=size, max_time=T,temperature=0.1)\n",
    "agent_cnn = DQN_CNN(size, lr=.1, epsilon = 0.1, memory_size=2000, batch_size = 32)\n",
    "agent_cnn.load(name_weights='cnn_trainmodel.h5',name_model='cnn_trainmodel.json')\n",
    "\n",
    "agent_fc = DQN_FC(size, lr=.1, epsilon = 0.1, memory_size=2000, batch_size = 32)\n",
    "agent_cnn.load(name_weights='fc_trainmodel.h5',name_model='fc_trainmodel.json')\n",
    "print('Test of the CNN')\n",
    "test(agent_cnn,env,epochs_test,prefix='cnn_test')\n",
    "print('Test of the FC')\n",
    "test(agent_fc,env,epochs_test,prefix='fc_test')"
   ]
  },
  {
   "cell_type": "code",
   "execution_count": 79,
   "metadata": {},
   "outputs": [
    {
     "data": {
      "text/html": [
       "<video alt=\"test\" controls>\n",
       "                <source src=\"data:video/mp4;base64,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\" type=\"video/mp4\" />\n",
       "             </video>"
      ],
      "text/plain": [
       "<IPython.core.display.HTML object>"
      ]
     },
     "execution_count": 79,
     "metadata": {},
     "output_type": "execute_result"
    }
   ],
   "source": [
    "HTML(display_videos('cnn_test10.mp4'))"
   ]
  },
  {
   "cell_type": "code",
   "execution_count": 80,
   "metadata": {},
   "outputs": [
    {
     "data": {
      "text/html": [
       "<video alt=\"test\" controls>\n",
       "                <source src=\"data:video/mp4;base64,AAAAIGZ0eXBpc29tAAACAGlzb21pc28yYXZjMW1wNDEAAAAIZnJlZQAAF9xtZGF0AAACrgYF//+q3EXpvebZSLeWLNgg2SPu73gyNjQgLSBjb3JlIDE0NiByMjUzOCAxMjEzOTZjIC0gSC4yNjQvTVBFRy00IEFWQyBjb2RlYyAtIENvcHlsZWZ0IDIwMDMtMjAxNSAtIGh0dHA6Ly93d3cudmlkZW9sYW4ub3JnL3gyNjQuaHRtbCAtIG9wdGlvbnM6IGNhYmFjPTEgcmVmPTMgZGVibG9jaz0xOjA6MCBhbmFseXNlPTB4MzoweDExMyBtZT1oZXggc3VibWU9NyBwc3k9MSBwc3lfcmQ9MS4wMDowLjAwIG1peGVkX3JlZj0xIG1lX3JhbmdlPTE2IGNocm9tYV9tZT0xIHRyZWxsaXM9MSA4eDhkY3Q9MSBjcW09MCBkZWFkem9uZT0yMSwxMSBmYXN0X3Bza2lwPTEgY2hyb21hX3FwX29mZnNldD00IHRocmVhZHM9MTggbG9va2FoZWFkX3RocmVhZHM9MiBzbGljZWRfdGhyZWFkcz0wIG5yPTAgZGVjaW1hdGU9MSBpbnRlcmxhY2VkPTAgYmx1cmF5X2NvbXBhdD0wIGNvbnN0cmFpbmVkX2ludHJhPTAgYmZyYW1lcz0zIGJfcHlyYW1pZD0yIGJfYWRhcHQ9MSBiX2JpYXM9MCBkaXJlY3Q9MSB3ZWlnaHRiPTEgb3Blbl9nb3A9MCB3ZWlnaHRwPTIga2V5aW50PTI1MCBrZXlpbnRfbWluPTI1IHNjZW5lY3V0PTQwIGludHJhX3JlZnJlc2g9MCByY19sb29rYWhlYWQ9NDAgcmM9Y3JmIG1idHJlZT0xIGNyZj0yMy4wIHFjb21wPTAuNjAgcXBtaW49MCBxcG1heD02OSBxcHN0ZXA9NCBpcF9yYXRpbz0xLjQwIGFxPTE6MS4wMACAAAADBWWIhAA3//72h/gU2VgTun/9P+C6zp85f52wATTYAUhuYKf6xP/+TscaX1tR8CmrpIPwKSilgzS+yokr5ZKfFvtj5BqC5edwxiHfi3PlWfoNIu1bkAkDbIC+/0Id9vZLwctjy+FuE/9mF570mtt01qZ+AymghpaJbkCn2AK4Czp73uFctwa28bFTxWcH8nC8wueqO2C6k/G7XR8/DNsolRYHGyQPSkJ6r3c7diahpo+u+t0aiOas/ke7jQHQWy4O2KJtrFTo8i+GTlE1UG/xxH0ZGtw9Q8Oo5MFe1uVMlm3YDAbrDMqeSld4XNQxXZfyEjllkiMRqQPGCZXGKxQtegEQaOt3gwiUZd5s4g9dGF2sogUAdd1KPC21HXxtDP7v2nQWKstGoXW6lZtC7Xzuxy/cLqU/UOMkoqXevGeZ6exgcOzRJwD9UpBd48aq7N2tbeuri2GE0q31Zt2US2FccFWd3R3H9b6aJaHnAXoxVEgXRc5vnvm01ieJ8ThQQD/bajT7hYGO8SYZjD2n90i2zxZNN3ZqwjNfn7DS1lsW2h7P1zs2/m5jsfe6PENKVJiLcINpq4s9BhsRDN3DkzQmMmP018FMxk9TAkr2FNeHEN81MMqAlDkRYHftJA3pqrx+dKpj6l7WP6Cjlr3+rOAxWKAw9J0495xZzlAip0GTAHmOCmaKk2AjyIHRoAAmsEuGkpNc1GHeFpkZU8o3rxMFJFCKCX26gmqzuOYwHcxY5XJyfhQCftL00eRyAOxcoaY9ppkkHnYBLomUmsn0mtXg9WSl9npEpodeCK9eOJqWnRWeAmi357W7yD0+6wg1i7ZnmEkDOPnUBRUN3d+60uQQaA112SCHm5t9zj6DJbqqSWPwSer2OwePf4BuFMEJR34Ul005zur97KjV4I1tF3LycgYLr5Tt7paHsIvQR+EUFEb7TGu848g3KebUXXjJknIR9r/HXvzcBQLRxVZNac49uIlXckrrAxQSRbUiQ8oJOoiS9KGLovt6QQl53cQCLM3goDWRAImBAAAAREGaJGxDf/6nhAAF9zL6p//xCSwxcNtQ0YSsS4kSwm//+IHWjhrYnCFMUXVP//xCDqTw2oj6EldJkDr170X/2zjX0gCAAAAAI0GeQniF/wADitgto9fCVLv/8QdBks//w0/LP/8QMdvyXl7ZAAAAEAGeYXRCvwAEl8ku6lwOU0AAAAAQAZ5jakK/AATXYjyXM+V7gQAAABpBmmVJqEFomUwIb//+p4QABh3VpBCJ/lxbgQAAABtBmoZJ4QpSZTAh3/6plgADKQWVxm1AP7+2ImEAAAASQZqqSeEOiZTAh3/+qZYAAJWBAAAADEGeyEURPC//AACygAAAABABnud0Qr8ABR7R3pdtCXqAAAAAEAGe6WpCvwAFHUa2ShWEnqEAAAASQZruSahBaJlMCG///qeEAAEnAAAADEGfDEURLC//AACygAAAABABnyt0Qr8ABR7SBgXbQl6hAAAAEAGfLWpCvwAFHUa2ShWEnqEAAAAaQZsvSahBbJlMCHf//qmWAAMpBaL9pLg/O1EAAAAqQZtTSeEKUmUwIb/+p4QADo+y+r4FNfUK/ApUtn4FM7AxQLrF7GxaM+beAAAAEUGfcUU0TC//AAiufoOUL7C0AAAADwGfkHRCvwAE+jGLgPzvIQAAABABn5JqQr8AC/O1HK/txDZAAAAAGUGblEmoQWiZTAh3//6plgAHSXTABh0+0SAAAAAaQZu4SeEKUmUwId/+qZYABx1hwT+P76vu7bEAAAAUQZ/WRTRML/8ACG5+5brCwLO9tGAAAAAQAZ/1dEK/AAeXieKTbJYYgQAAABABn/dqQr8AC6WPHK/txDjBAAAAJEGb/EmoQWiZTAh3//6plgAQHjJy+IQbf/hKqGb//0qXo07OLAAAAB1BnhpFESwv/wAUPpgd8Qe5//iEF8T//x+PdHlRsQAAABABnjl0Qr8AG6kteB0ynCmAAAAADwGeO2pCvwAboi+ZtmRslQAAAB5BmiBJqEFsmUwIb//+p4QAH99g/zlu0hzLLEyOXRMAAAAQQZ5eRRUsL/8AE1z9m4IR8AAAAA8Bnn10Qr8AGmSUQpgjW4AAAAAQAZ5/akK/ABpiO3OtDC9cwQAAAC1BmmRJqEFsmUwIZ//+nhAAT/3Te6YeeIXUI+PmUcyyue2bgUqWDcCmdgWB0IAAAAAWQZ6CRRUsL/8ADEB6H5SPosqMTWDMIQAAABABnqF0Qr8AEFdWjJLf6/uAAAAAEAGeo2pCvwAKg1851TMcHcEAAAAZQZqlSahBbJlMCGf//p4QAC/+/u7Tm7i7HQAAABhBmsZJ4QpSZTAhn/6eEAAuvxOzrdAyRw0AAAAbQZrnSeEOiZTAhv/+p4QAC6/H6BO+vZnwRc3BAAAAGUGbCEnhDyZTAhv//qeEAAtnup+o40JDycAAAAAZQZspSeEPJlMCHf/+qZYAA6nF5iTo/vK9gAAAABxBm01J4Q8mUwId//6plgADk+0v7FspG4m0ucvJAAAAEEGfa0URPC//AAQ2gOXZk3sAAAAQAZ+KdEK/AAXROpPK/JTqcAAAAA8Bn4xqQr8AA81fNDrSK4EAAAAaQZuRSahBaJlMCHf//qmWAAOO1QI/vq+8LIEAAAAQQZ+vRREsL/8ABDc/c4WeCQAAAA8Bn850Qr8AA8xegMkvEIAAAAAQAZ/QakK/AAXSyITcZ9evOAAAABlBm9VJqEFsmUwId//+qZYAA5PtL+xaziSHAAAAEEGf80UVLC//AAQ2gOXkeCAAAAAQAZ4SdEK/AAXROpPK/JTqcAAAAA8BnhRqQr8AA81fNDrSK4EAAAATQZoZSahBbJlMCHf//qmWAACVgAAAAAxBnjdFFSwv/wAAsoEAAAAPAZ5WdEK/AAPDg7uR61BDAAAADwGeWGpCvwADw4O5ykd23AAAABxBml1JqEFsmUwId//+qZYAA446hZCTc09GP073AAAAEEGee0UVLC//AAQ2gOXkeCAAAAAQAZ6adEK/AAXTNEifFmKecQAAAA8BnpxqQr8ABdOVgXX+QEEAAAAaQZqBSahBbJlMCHf//qmWAAOT7S/sW3u0LIAAAAAQQZ6/RRUsL/8ABDaA5eR4IAAAABABnt50Qr8ABdE6k8r8lOpxAAAADwGewGpCvwADzV80OtIrgAAAABNBmsVJqEFsmUwId//+qZYAAJWBAAAADEGe40UVLC//AACygAAAAA8BnwJ0Qr8AA8ODu5HrUEMAAAAPAZ8EakK/AAPDg7nKR3bdAAAAE0GbCUmoQWyZTAh3//6plgAAlYEAAAAUQZ8nRRUsL/8ABDY+fRYrsItfgN0AAAAQAZ9GdEK/AAXTNEifFmKecAAAABABn0hqQr8ABdG5DD6AkHvYAAAAE0GbTUmoQWyZTAh3//6plgAAlYEAAAAMQZ9rRRUsL/8AALKAAAAADwGfinRCvwADw4O7ketQQgAAAA8Bn4xqQr8AA8ODucpHdt0AAAAcQZuRSahBbJlMCG///qeEAAcQHia41RL9E/yTyQAAABBBn69FFSwv/wAENz9zhZ4JAAAADwGfznRCvwADzF6AyS8QgAAAABABn9BqQr8ABdLIhNxn1684AAAAGkGb0kmoQWyZTAh3//6plgADk+0v53SFMKERAAAAGkGb9knhClJlMCHf/qmWAAJT8efzNqrG4xysAAAAEEGeFEU0TC//AALEyxUIRpAAAAAQAZ4zdEK/AAO1xZnlfkp6CQAAAA8BnjVqQr8AAn3KB5MFJ4AAAAAZQZo6SahBaJlMCHf//qmWAAJQv3bT0Y/UGQAAABBBnlhFESwv/wACxUCK0pGlAAAADwGed3RCvwACj2jvPOPDgAAAABABnnlqQr8AA8vOGveaVq3BAAAAE0GafkmoQWyZTAh3//6plgAAlYAAAAAMQZ6cRRUsL/8AALKBAAAADwGeu3RCvwADzNgaHnPM6QAAAA8Bnr1qQr8AA8vOGiVzzOkAAAATQZqiSahBbJlMCHf//qmWAACVgAAAAAxBnsBFFSwv/wAAsoEAAAAPAZ7/dEK/AAPM2Boec8zpAAAADwGe4WpCvwADy84aJXPM6QAAABNBmuZJqEFsmUwId//+qZYAAJWAAAAADEGfBEUVLC//AACygQAAAA8BnyN0Qr8AA8zYGh5zzOkAAAAPAZ8lakK/AAPLzholc8zpAAAAE0GbKkmoQWyZTAh3//6plgAAlYEAAAAMQZ9IRRUsL/8AALKAAAAADwGfZ3RCvwADzNgaHnPM6QAAAA8Bn2lqQr8AA8vOGiVzzOkAAAATQZtuSahBbJlMCHf//qmWAACVgAAAAAxBn4xFFSwv/wAAsoAAAAAPAZ+rdEK/AAPM2Boec8zpAAAADwGfrWpCvwADy84aJXPM6QAAABNBm7JJqEFsmUwId//+qZYAAJWBAAAADEGf0EUVLC//AACygAAAAA8Bn+90Qr8AA8zYGh5zzOkAAAAPAZ/xakK/AAPLzholc8zpAAAAHEGb9kmoQWyZTAh3//6plgADpDqBaJNyjfHn0kMAAAAVQZ4URRUsL/8ABFc/ZrXvyIfMRXI0AAAAEAGeM3RCvwADzNga2mUPokEAAAAQAZ41akK/AAX52o5X9uJEQAAAABNBmjpJqEFsmUwId//+qZYAAJWBAAAADEGeWEUVLC//AACygQAAAA8Bnnd0Qr8ABeivdyPWnlIAAAAPAZ55akK/AAXor3OUjurtAAAAHEGafkmoQWyZTAh3//6plgADqcXow7PahZCmwYwAAAAQQZ6cRRUsL/8ABFaAzXXJwQAAAA8Bnrt0Qr8ABfgD4pNsllkAAAAPAZ69akK/AAPLzhsDlVuAAAAAE0GaokmoQWyZTAh3//6plgAAlYAAAAAMQZ7ARRUsL/8AALKBAAAADwGe/3RCvwADzNgaHnPM6QAAAA8BnuFqQr8AA8vOGiVzzOkAAAAgQZrmSahBbJlMCHf//qmWAAJz8jxGcCmtVjvukgA2ODAAAAAQQZ8ERRUsL/8AAulBs883IQAAAA8BnyN0Qr8AA8zYGuvjdIEAAAAQAZ8lakK/AAPizB5LmfLZgQAAAClBmypJqEFsmUwId//+qZYABjPYb5llapqvApRIF4FM1yxXbHzO7L+/gwAAACRBn0hFFSwv/wAHQTmlYmLH//j/J6aGp/GXw+Q5CmjfY/6KMNwAAAAQAZ9ndEK/AAQXyS7qXA5hgAAAABABn2lqQr8ACfWPHK/txEbBAAAAKUGbbkmoQWyZTAh3//6plgAJj8efyL0v264OuZZWm5DwKZHy7gUCZNkwAAAAEUGfjEUVLC//AAtbKXQwRGtYAAAADwGfq3RCvwAPNYrGEKuawQAAABABn61qQr8ACfNfOdUzHCNBAAAAJEGbskmoQWyZTAh3//6plgAF4+SX5VXJDl8Qg6//CVUM3/+19wAAABVBn9BFFSwv/wAG6EbvM4+YbFuvMzAAAAAQAZ/vdEK/AAlrq0ZJb/Y3gAAAABABn/FqQr8ABfiO3OtDDB9BAAAAE0Gb9kmoQWyZTAh3//6plgAAlYAAAAAMQZ4URRUsL/8AALKAAAAADwGeM3RCvwADzNgaHnPM6QAAAA8BnjVqQr8AA8vOGiVzzOkAAAATQZo6SahBbJlMCHf//qmWAACVgQAAAAxBnlhFFSwv/wAAsoEAAAAPAZ53dEK/AAPM2Boec8zpAAAADwGeeWpCvwADy84aJXPM6QAAACBBmn5JqEFsmUwId//+qZYAAnPyPEZwKa1WO+6SADY4MAAAABBBnpxFFSwv/wAC6UGzzzchAAAADwGeu3RCvwADzNga6+N0gQAAABABnr1qQr8AA+LMHkuZ8tmAAAAAJUGaokmoQWyZTAh3//6plgACc/Hn80uO5fEI/OJ//CU51X//qBMAAAAVQZ7ARRUsL/8AAw/rj29vj85EBKlhAAAAEAGe/3RCvwAEF8ku6lwOYYAAAAAQAZ7hakK/AAQWT5zrQwxEgQAAACpBmuZJqEFsmUwId//+qZYABePgVg5llabrvApkfWeBQJ4PfN50wqEjb9AAAAAVQZ8ERRUsL/8ABulXjG9yuRFp8/W1AAAAEAGfI3RCvwAGSkr31/abH+EAAAAQAZ8lakK/AAmrzRMiaVoaQQAAACRBmypJqEFsmUwId//+qZYABePkl+VVyQ5fEIOv/wlVDN//tfcAAAAVQZ9IRRUsL/8ABuhG7zOPmGxbrzMwAAAAEAGfZ3RCvwAJa6tGSW/2N4AAAAAQAZ9pakK/AAX4jtzrQwwfQQAAABNBm25JqEFsmUwId//+qZYAAJWAAAAADEGfjEUVLC//AACygAAAAA8Bn6t0Qr8AA8zYGh5zzOkAAAAQAZ+takK/AAXSNrushh0BQQAAABNBm7JJqEFsmUwId//+qZYAAJWBAAAADEGf0EUVLC//AACygAAAABABn+90Qr8ABdOgHP60DoCgAAAAEAGf8WpCvwAF0ja7rIYdAUEAAAATQZv2SahBbJlMCHf//qmWAACVgAAAAAxBnhRFFSwv/wAAsoAAAAAPAZ4zdEK/AAPM2Boec8zpAAAAEAGeNWpCvwAF0ja7rIYdAUAAAAAcQZo6SahBbJlMCHf//qmWAAOkOoFok3KN8efSQwAAABBBnlhFFSwv/wAEVoDNdcnBAAAADwGed3RCvwAF+ks3Bsl6YQAAAA8BnnlqQr8ACS2td33fNsEAAAAdQZp+SahBbJlMCG///qeEAAdHhMzUBdDCqZD+PDsAAAASQZ6cRRUsL/8ABFaAzd/r+VL9AAAAEAGeu3RCvwAF+AADJLf7RMEAAAAQAZ69akK/AAPMrg1x4q3RIAAAABJBmqJJqEFsmUwIZ//+nhAABHwAAAAMQZ7ARRUsL/8AALKBAAAADwGe/3RCvwACdf/FGiSzIgAAAA8BnuFqQr8AAo6jRBajzYcAAAAZQZrjSahBbJlMCGf//p4QABJThHP4c5vtMgAAABlBmwRJ4QpSZTAhv/6nhAAHPOM/1W+Y/HjhAAAAGUGbKEnhDomUwIX//oywAByeEvz+htvDKPEAAAAQQZ9GRRE8L/8ABFc/ZuCScQAAAA8Bn2V0Qr8ACTCAOhOTNsEAAAAQAZ9nakK/AAX4jtzrQwwfQAAAABpBm2lLqEIQWiRGCCgH8gH9h4AhX/44QAARcAAADFltb292AAAAbG12aGQAAAAAAAAAAAAAAAAAAAPoAAAfkAABAAABAAAAAAAAAAAAAAAAAQAAAAAAAAAAAAAAAAAAAAEAAAAAAAAAAAAAAAAAAEAAAAAAAAAAAAAAAAAAAAAAAAAAAAAAAAAAAAAAAAACAAALg3RyYWsAAABcdGtoZAAAAAMAAAAAAAAAAAAAAAEAAAAAAAAfkAAAAAAAAAAAAAAAAAAAAAAAAQAAAAAAAAAAAAAAAAAAAAEAAAAAAAAAAAAAAAAAAEAAAAABEAAAARAAAAAAACRlZHRzAAAAHGVsc3QAAAAAAAAAAQAAH5AAAAQAAAEAAAAACvttZGlhAAAAIG1kaGQAAAAAAAAAAAAAAAAAADIAAAGUAFXEAAAAAAAtaGRscgAAAAAAAAAAdmlkZQAAAAAAAAAAAAAAAFZpZGVvSGFuZGxlcgAAAAqmbWluZgAAABR2bWhkAAAAAQAAAAAAAAAAAAAAJGRpbmYAAAAcZHJlZgAAAAAAAAABAAAADHVybCAAAAABAAAKZnN0YmwAAACWc3RzZAAAAAAAAAABAAAAhmF2YzEAAAAAAAAAAQAAAAAAAAAAAAAAAAAAAAABEAEQAEgAAABIAAAAAAAAAAEAAAAAAAAAAAAAAAAAAAAAAAAAAAAAAAAAAAAAAAAAAAAY//8AAAAwYXZjQwH0AA3/4QAXZ/QADZGbKCIR0IAAAAMAgAAAGQeKFMsBAAZo6+PESEQAAAAYc3R0cwAAAAAAAAABAAAAygAAAgAAAAAUc3RzcwAAAAAAAAABAAAAAQAABjBjdHRzAAAAAAAAAMQAAAABAAAEAAAAAAEAAAoAAAAAAQAABAAAAAABAAAAAAAAAAEAAAIAAAAAAgAABAAAAAABAAAKAAAAAAEAAAQAAAAAAQAAAAAAAAABAAACAAAAAAEAAAoAAAAAAQAABAAAAAABAAAAAAAAAAEAAAIAAAAAAQAABAAAAAABAAAKAAAAAAEAAAQAAAAAAQAAAAAAAAABAAACAAAAAAEAAAQAAAAAAQAACgAAAAABAAAEAAAAAAEAAAAAAAAAAQAAAgAAAAABAAAKAAAAAAEAAAQAAAAAAQAAAAAAAAABAAACAAAAAAEAAAoAAAAAAQAABAAAAAABAAAAAAAAAAEAAAIAAAAAAQAACgAAAAABAAAEAAAAAAEAAAAAAAAAAQAAAgAAAAAFAAAEAAAAAAEAAAoAAAAAAQAABAAAAAABAAAAAAAAAAEAAAIAAAAAAQAACgAAAAABAAAEAAAAAAEAAAAAAAAAAQAAAgAAAAABAAAKAAAAAAEAAAQAAAAAAQAAAAAAAAABAAACAAAAAAEAAAoAAAAAAQAABAAAAAABAAAAAAAAAAEAAAIAAAAAAQAACgAAAAABAAAEAAAAAAEAAAAAAAAAAQAAAgAAAAABAAAKAAAAAAEAAAQAAAAAAQAAAAAAAAABAAACAAAAAAEAAAoAAAAAAQAABAAAAAABAAAAAAAAAAEAAAIAAAAAAQAACgAAAAABAAAEAAAAAAEAAAAAAAAAAQAAAgAAAAABAAAKAAAAAAEAAAQAAAAAAQAAAAAAAAABAAACAAAAAAEAAAoAAAAAAQAABAAAAAABAAAAAAAAAAEAAAIAAAAAAQAABAAAAAABAAAKAAAAAAEAAAQAAAAAAQAAAAAAAAABAAACAAAAAAEAAAoAAAAAAQAABAAAAAABAAAAAAAAAAEAAAIAAAAAAQAACgAAAAABAAAEAAAAAAEAAAAAAAAAAQAAAgAAAAABAAAKAAAAAAEAAAQAAAAAAQAAAAAAAAABAAACAAAAAAEAAAoAAAAAAQAABAAAAAABAAAAAAAAAAEAAAIAAAAAAQAACgAAAAABAAAEAAAAAAEAAAAAAAAAAQAAAgAAAAABAAAKAAAAAAEAAAQAAAAAAQAAAAAAAAABAAACAAAAAAEAAAoAAAAAAQAABAAAAAABAAAAAAAAAAEAAAIAAAAAAQAACgAAAAABAAAEAAAAAAEAAAAAAAAAAQAAAgAAAAABAAAKAAAAAAEAAAQAAAAAAQAAAAAAAAABAAACAAAAAAEAAAoAAAAAAQAABAAAAAABAAAAAAAAAAEAAAIAAAAAAQAACgAAAAABAAAEAAAAAAEAAAAAAAAAAQAAAgAAAAABAAAKAAAAAAEAAAQAAAAAAQAAAAAAAAABAAACAAAAAAEAAAoAAAAAAQAABAAAAAABAAAAAAAAAAEAAAIAAAAAAQAACgAAAAABAAAEAAAAAAEAAAAAAAAAAQAAAgAAAAABAAAKAAAAAAEAAAQAAAAAAQAAAAAAAAABAAACAAAAAAEAAAoAAAAAAQAABAAAAAABAAAAAAAAAAEAAAIAAAAAAQAACgAAAAABAAAEAAAAAAEAAAAAAAAAAQAAAgAAAAABAAAKAAAAAAEAAAQAAAAAAQAAAAAAAAABAAACAAAAAAEAAAoAAAAAAQAABAAAAAABAAAAAAAAAAEAAAIAAAAAAQAACgAAAAABAAAEAAAAAAEAAAAAAAAAAQAAAgAAAAABAAAKAAAAAAEAAAQAAAAAAQAAAAAAAAABAAACAAAAAAEAAAoAAAAAAQAABAAAAAABAAAAAAAAAAEAAAIAAAAAAQAACgAAAAABAAAEAAAAAAEAAAAAAAAAAQAAAgAAAAABAAAKAAAAAAEAAAQAAAAAAQAAAAAAAAABAAACAAAAAAEAAAoAAAAAAQAABAAAAAABAAAAAAAAAAEAAAIAAAAAAQAACgAAAAABAAAEAAAAAAEAAAAAAAAAAQAAAgAAAAABAAAKAAAAAAEAAAQAAAAAAQAAAAAAAAABAAACAAAAAAIAAAQAAAAAAQAACgAAAAABAAAEAAAAAAEAAAAAAAAAAQAAAgAAAAABAAAEAAAAABxzdHNjAAAAAAAAAAEAAAABAAAAygAAAAEAAAM8c3RzegAAAAAAAAAAAAAAygAABbsAAABIAAAAJwAAABQAAAAUAAAAHgAAAB8AAAAWAAAAEAAAABQAAAAUAAAAFgAAABAAAAAUAAAAFAAAAB4AAAAuAAAAFQAAABMAAAAUAAAAHQAAAB4AAAAYAAAAFAAAABQAAAAoAAAAIQAAABQAAAATAAAAIgAAABQAAAATAAAAFAAAADEAAAAaAAAAFAAAABQAAAAdAAAAHAAAAB8AAAAdAAAAHQAAACAAAAAUAAAAFAAAABMAAAAeAAAAFAAAABMAAAAUAAAAHQAAABQAAAAUAAAAEwAAABcAAAAQAAAAEwAAABMAAAAgAAAAFAAAABQAAAATAAAAHgAAABQAAAAUAAAAEwAAABcAAAAQAAAAEwAAABMAAAAXAAAAGAAAABQAAAAUAAAAFwAAABAAAAATAAAAEwAAACAAAAAUAAAAEwAAABQAAAAeAAAAHgAAABQAAAAUAAAAEwAAAB0AAAAUAAAAEwAAABQAAAAXAAAAEAAAABMAAAATAAAAFwAAABAAAAATAAAAEwAAABcAAAAQAAAAEwAAABMAAAAXAAAAEAAAABMAAAATAAAAFwAAABAAAAATAAAAEwAAABcAAAAQAAAAEwAAABMAAAAgAAAAGQAAABQAAAAUAAAAFwAAABAAAAATAAAAEwAAACAAAAAUAAAAEwAAABMAAAAXAAAAEAAAABMAAAATAAAAJAAAABQAAAATAAAAFAAAAC0AAAAoAAAAFAAAABQAAAAtAAAAFQAAABMAAAAUAAAAKAAAABkAAAAUAAAAFAAAABcAAAAQAAAAEwAAABMAAAAXAAAAEAAAABMAAAATAAAAJAAAABQAAAATAAAAFAAAACkAAAAZAAAAFAAAABQAAAAuAAAAGQAAABQAAAAUAAAAKAAAABkAAAAUAAAAFAAAABcAAAAQAAAAEwAAABQAAAAXAAAAEAAAABQAAAAUAAAAFwAAABAAAAATAAAAFAAAACAAAAAUAAAAEwAAABMAAAAhAAAAFgAAABQAAAAUAAAAFgAAABAAAAATAAAAEwAAAB0AAAAdAAAAHQAAABQAAAATAAAAFAAAAB4AAAAUc3RjbwAAAAAAAAABAAAAMAAAAGJ1ZHRhAAAAWm1ldGEAAAAAAAAAIWhkbHIAAAAAAAAAAG1kaXJhcHBsAAAAAAAAAAAAAAAALWlsc3QAAAAlqXRvbwAAAB1kYXRhAAAAAQAAAABMYXZmNTYuMzYuMTAw\" type=\"video/mp4\" />\n",
       "             </video>"
      ],
      "text/plain": [
       "<IPython.core.display.HTML object>"
      ]
     },
     "execution_count": 80,
     "metadata": {},
     "output_type": "execute_result"
    }
   ],
   "source": [
    "HTML(display_videos('fc_test10.mp4'))"
   ]
  },
  {
   "cell_type": "markdown",
   "metadata": {},
   "source": [
    "We get sometimes a score of 0/0 which mean that we are going back to a cell that we have visited already. Also we can see that we don't explore different states (or cells). This could limit our reward since there could be some cell that have a large reward  (as it can be very poor) that we have never took the action to visit them. \n",
    "\n",
    "The final score of both models increases when the temperature increases ( Temperature encourages shocs and explorations are likely to occur). In a low temperature regime, the final score is low wich validate our previous statement."
   ]
  },
  {
   "cell_type": "markdown",
   "metadata": {},
   "source": [
    "***\n",
    "\n",
    "The algorithm tends to not explore the map which can be an issue. We propose two ideas in order to encourage exploration:\n",
    "1. Incorporating a decreasing $\\epsilon$-greedy exploration. You can use the method ```set_epsilon```\n",
    "2. Append via the environment a new state that describes if a cell has been visited or not\n",
    "\n",
    "***\n",
    "__Question 10__ Design a new ```train_explore``` function and environment class ```EnvironmentExploring``` to tackle the issue of exploration.\n",
    "\n"
   ]
  },
  {
   "cell_type": "code",
   "execution_count": 83,
   "metadata": {},
   "outputs": [],
   "source": [
    "def train_explore(agent,env,epoch,prefix=''):\n",
    "    # Number of won games\n",
    "    score = 0\n",
    "    loss = 0\n",
    "\n",
    "    for e in range(epoch):\n",
    "        # At each epoch, we restart to a fresh game and get the initial state\n",
    "        state = env.reset()\n",
    "        # This assumes that the games will terminate\n",
    "        game_over = False\n",
    "\n",
    "        win = 0\n",
    "        lose = 0\n",
    "\n",
    "        while not game_over:\n",
    "            # The agent performs an action\n",
    "            action = agent.act(state)\n",
    "\n",
    "            # Apply an action to the environment, get the next state, the reward\n",
    "            # and if the games end\n",
    "            prev_state = state\n",
    "            state, reward, game_over = env.act(action, train=True)\n",
    "\n",
    "            # Update the counters\n",
    "            if reward > 0:\n",
    "                win = win + reward\n",
    "            if reward < 0:\n",
    "                lose = lose -reward\n",
    "\n",
    "            # Apply the reinforcement strategy\n",
    "            loss = agent.reinforce(prev_state, state,  action, reward, game_over)\n",
    "\n",
    "        # Save as a mp4\n",
    "        if e % 10 == 0:\n",
    "            env.draw(prefix+str(e))\n",
    "\n",
    "        # Update stats\n",
    "        score += win-lose\n",
    "\n",
    "        print(\"Epoch {:03d}/{:03d} | Loss {:.4f} | Win/lose count {}/{} ({})\"\n",
    "              .format(e, epoch, loss, win, lose, win-lose))\n",
    "        agent.save(name_weights=prefix+'model.h5',name_model=prefix+'model.json')\n",
    "        \n",
    "class EnvironmentExploring(object):\n",
    "    def __init__(self, grid_size=10, max_time=500, temperature=0.1):\n",
    "        grid_size = grid_size+4\n",
    "        self.grid_size = grid_size\n",
    "        self.max_time = max_time\n",
    "        self.temperature = temperature\n",
    "\n",
    "        #board on which one plays\n",
    "        self.board = np.zeros((grid_size,grid_size))\n",
    "        self.position = np.zeros((grid_size,grid_size))\n",
    "        self.malus_position = np.zeros((grid_size,grid_size))\n",
    "\n",
    "        # coordinate of the cat\n",
    "        self.x = 0\n",
    "        self.y = 1\n",
    "\n",
    "        # self time\n",
    "        self.t = 0\n",
    "\n",
    "        self.scale=16\n",
    "\n",
    "        self.to_draw = np.zeros((max_time+2, grid_size*self.scale, grid_size*self.scale, 3))\n",
    "\n",
    "\n",
    "    def draw(self,e):\n",
    "        skvideo.io.vwrite(str(e) + '.mp4', self.to_draw)\n",
    "\n",
    "    def get_frame(self,t):\n",
    "        b = np.zeros((self.grid_size,self.grid_size,3))+128\n",
    "        b[self.board>0,0] = 256\n",
    "        b[self.board < 0, 2] = 256\n",
    "        b[self.x,self.y,:]=256\n",
    "        b[-2:,:,:]=0\n",
    "        b[:,-2:,:]=0\n",
    "        b[:2,:,:]=0\n",
    "        b[:,:2,:]=0\n",
    "        \n",
    "        b =  cv2.resize(b, None, fx=self.scale, fy=self.scale, interpolation=cv2.INTER_NEAREST)\n",
    "\n",
    "        self.to_draw[t,:,:,:]=b\n",
    "\n",
    "\n",
    "    def act(self, action, train = False):\n",
    "        #This function returns the new state, reward and decides if the\n",
    "        #game ends.\n",
    "\n",
    "        self.get_frame(int(self.t))\n",
    "\n",
    "        self.position = np.zeros((self.grid_size, self.grid_size))\n",
    "\n",
    "        self.position[0:2,:]= -1\n",
    "        self.position[:,0:2] = -1\n",
    "        self.position[-2:, :] = -1\n",
    "        self.position[-2:, :] = -1\n",
    "\n",
    "        self.position[self.x, self.y] = 1\n",
    "        if action == 0:\n",
    "            if self.x == self.grid_size-3:\n",
    "                self.x = self.x-1\n",
    "            else:\n",
    "                self.x = self.x + 1\n",
    "        elif action == 1:\n",
    "            if self.x == 2:\n",
    "                self.x = self.x+1\n",
    "            else:\n",
    "                self.x = self.x-1\n",
    "        elif action == 2:\n",
    "            if self.y == self.grid_size - 3:\n",
    "                self.y = self.y - 1\n",
    "            else:\n",
    "                self.y = self.y + 1\n",
    "        elif action == 3:\n",
    "            if self.y == 2:\n",
    "                self.y = self.y + 1\n",
    "            else:\n",
    "                self.y = self.y - 1\n",
    "        else:\n",
    "            RuntimeError('Error: action not recognized')\n",
    "        reward = 0\n",
    "        if train:\n",
    "            reward = -self.malus_position[self.x, self.y]\n",
    "        self.malus_position[self.x, self.y] = 0.1\n",
    "\n",
    "        reward = reward + self.board[self.x, self.y]\n",
    "        # 3 \"feature\" states instead of 2\n",
    "        state = np.concatenate((self.malus_position.reshape(self.grid_size, self.grid_size,1),\\\n",
    "                                self.board.reshape(self.grid_size, self.grid_size,1),\\\n",
    "                        self.position.reshape(self.grid_size, self.grid_size,1)),axis=2)\n",
    "        self.t = self.t + 1\n",
    "        self.board[self.x, self.y] = 0\n",
    "        game_over = self.t > self.max_time\n",
    "        state = state[self.x-2:self.x+3,self.y-2:self.y+3,:]\n",
    "\n",
    "        return state, reward, game_over\n",
    "\n",
    "    def reset(self):\n",
    "        #This function resets the game and returns the initial state\n",
    "\n",
    "        self.x = np.random.randint(3, self.grid_size-3, size=1)[0]\n",
    "        self.y = np.random.randint(3, self.grid_size-3, size=1)[0]\n",
    "\n",
    "\n",
    "        bonus = 0.5*np.random.binomial(1,self.temperature,size=self.grid_size**2)\n",
    "        bonus = bonus.reshape(self.grid_size,self.grid_size)\n",
    "\n",
    "        malus = -1.0*np.random.binomial(1,self.temperature,size=self.grid_size**2)\n",
    "        malus = malus.reshape(self.grid_size, self.grid_size)\n",
    "\n",
    "        self.to_draw = np.zeros((self.max_time+2, self.grid_size*self.scale, self.grid_size*self.scale, 3))\n",
    "\n",
    "\n",
    "        malus[bonus>0]=0\n",
    "\n",
    "        self.board = bonus + malus\n",
    "\n",
    "        self.position = np.zeros((self.grid_size, self.grid_size))\n",
    "        self.position[0:2,:]= -1\n",
    "        self.position[:,0:2] = -1\n",
    "        self.position[-2:, :] = -1\n",
    "        self.position[-2:, :] = -1\n",
    "        self.board[self.x,self.y] = 0\n",
    "        self.malus_position[self.x, self.y] = 0.1\n",
    "        self.t = 0\n",
    "        \n",
    "        state = np.concatenate((self.malus_position.reshape(self.grid_size, self.grid_size,1),\\\n",
    "                                self.board.reshape(self.grid_size, self.grid_size,1),\\\n",
    "                        self.position.reshape(self.grid_size, self.grid_size,1)),axis=2)\n",
    "        \n",
    "        state = state[self.x - 2:self.x + 3, self.y - 2:self.y + 3, :]\n",
    "        return state\n",
    "    \n"
   ]
  },
  {
   "cell_type": "code",
   "execution_count": 84,
   "metadata": {},
   "outputs": [
    {
     "name": "stdout",
     "output_type": "stream",
     "text": [
      "Epoch 000/016 | Loss 0.0053 | Win/lose count 3.0/19.900000000000016 (-16.900000000000016)\n",
      "Epoch 001/016 | Loss 0.0161 | Win/lose count 3.5/19.700000000000017 (-16.200000000000017)\n",
      "Epoch 002/016 | Loss 0.1296 | Win/lose count 5.0/27.300000000000125 (-22.300000000000125)\n",
      "Epoch 003/016 | Loss 0.3166 | Win/lose count 10.3/24.30000000000005 (-14.00000000000005)\n",
      "Epoch 004/016 | Loss 0.6142 | Win/lose count 8.5/24.30000000000007 (-15.800000000000072)\n",
      "Epoch 005/016 | Loss 0.6561 | Win/lose count 11.200000000000003/21.600000000000055 (-10.400000000000052)\n",
      "Epoch 006/016 | Loss 0.5071 | Win/lose count 2.9/21.20000000000004 (-18.30000000000004)\n",
      "Epoch 007/016 | Loss 0.4292 | Win/lose count 5.1000000000000005/20.80000000000003 (-15.700000000000028)\n",
      "Epoch 008/016 | Loss 0.1647 | Win/lose count 15.400000000000006/19.400000000000013 (-4.000000000000007)\n",
      "Epoch 009/016 | Loss 0.0832 | Win/lose count 4.5/20.000000000000018 (-15.500000000000018)\n",
      "Epoch 010/016 | Loss 0.0578 | Win/lose count 8.000000000000002/17.999999999999986 (-9.999999999999984)\n",
      "Epoch 011/016 | Loss 0.0410 | Win/lose count 8.900000000000004/18.7 (-9.799999999999995)\n",
      "Epoch 012/016 | Loss 0.0090 | Win/lose count 8.400000000000002/19.900000000000016 (-11.500000000000014)\n",
      "Epoch 013/016 | Loss 0.0139 | Win/lose count 15.80000000000001/22.200000000000028 (-6.400000000000018)\n",
      "Epoch 014/016 | Loss 0.0534 | Win/lose count 6.800000000000002/20.400000000000023 (-13.600000000000023)\n",
      "Epoch 015/016 | Loss 0.0462 | Win/lose count 13.600000000000007/17.69999999999998 (-4.099999999999975)\n"
     ]
    },
    {
     "data": {
      "text/html": [
       "<video alt=\"test\" controls>\n",
       "                <source src=\"data:video/mp4;base64,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\" type=\"video/mp4\" />\n",
       "             </video>"
      ],
      "text/plain": [
       "<IPython.core.display.HTML object>"
      ]
     },
     "execution_count": 84,
     "metadata": {},
     "output_type": "execute_result"
    }
   ],
   "source": [
    "# Training\n",
    "env = EnvironmentExploring(grid_size=size, max_time=T, temperature=0.3)\n",
    "agent = DQN_CNN(size, lr=.1, epsilon = 0.1, memory_size=2000, batch_size = 32,n_state=3)\n",
    "train_explore(agent, env, epochs_train, prefix='cnn_train_explore')\n",
    "HTML(display_videos('cnn_train_explore10.mp4'))"
   ]
  },
  {
   "cell_type": "code",
   "execution_count": 85,
   "metadata": {},
   "outputs": [
    {
     "name": "stdout",
     "output_type": "stream",
     "text": [
      "Win/lose count 17.0/3.0. Average score (14.0)\n",
      "Win/lose count 15.5/2.0. Average score (13.75)\n",
      "Win/lose count 16.0/5.0. Average score (12.833333333333334)\n",
      "Win/lose count 16.5/3.0. Average score (13.0)\n",
      "Win/lose count 19.5/2.0. Average score (13.9)\n",
      "Win/lose count 14.5/1.0. Average score (13.833333333333334)\n",
      "Win/lose count 15.0/1.0. Average score (13.857142857142858)\n",
      "Win/lose count 15.0/4.0. Average score (13.5)\n",
      "Win/lose count 19.5/4.0. Average score (13.722222222222221)\n",
      "Win/lose count 5.0/2.0. Average score (12.65)\n",
      "Win/lose count 12.0/3.0. Average score (12.318181818181818)\n",
      "Win/lose count 22.5/5.0. Average score (12.75)\n",
      "Win/lose count 8.5/3.0. Average score (12.192307692307692)\n",
      "Win/lose count 8.5/0. Average score (11.928571428571429)\n",
      "Win/lose count 7.5/3.0. Average score (11.433333333333334)\n",
      "Win/lose count 24.5/5.0. Average score (11.9375)\n",
      "Final score: 11.9375\n"
     ]
    },
    {
     "data": {
      "text/html": [
       "<video alt=\"test\" controls>\n",
       "                <source src=\"data:video/mp4;base64,AAAAIGZ0eXBpc29tAAACAGlzb21pc28yYXZjMW1wNDEAAAAIZnJlZQAAGMhtZGF0AAACrgYF//+q3EXpvebZSLeWLNgg2SPu73gyNjQgLSBjb3JlIDE0NiByMjUzOCAxMjEzOTZjIC0gSC4yNjQvTVBFRy00IEFWQyBjb2RlYyAtIENvcHlsZWZ0IDIwMDMtMjAxNSAtIGh0dHA6Ly93d3cudmlkZW9sYW4ub3JnL3gyNjQuaHRtbCAtIG9wdGlvbnM6IGNhYmFjPTEgcmVmPTMgZGVibG9jaz0xOjA6MCBhbmFseXNlPTB4MzoweDExMyBtZT1oZXggc3VibWU9NyBwc3k9MSBwc3lfcmQ9MS4wMDowLjAwIG1peGVkX3JlZj0xIG1lX3JhbmdlPTE2IGNocm9tYV9tZT0xIHRyZWxsaXM9MSA4eDhkY3Q9MSBjcW09MCBkZWFkem9uZT0yMSwxMSBmYXN0X3Bza2lwPTEgY2hyb21hX3FwX29mZnNldD00IHRocmVhZHM9MTggbG9va2FoZWFkX3RocmVhZHM9MiBzbGljZWRfdGhyZWFkcz0wIG5yPTAgZGVjaW1hdGU9MSBpbnRlcmxhY2VkPTAgYmx1cmF5X2NvbXBhdD0wIGNvbnN0cmFpbmVkX2ludHJhPTAgYmZyYW1lcz0zIGJfcHlyYW1pZD0yIGJfYWRhcHQ9MSBiX2JpYXM9MCBkaXJlY3Q9MSB3ZWlnaHRiPTEgb3Blbl9nb3A9MCB3ZWlnaHRwPTIga2V5aW50PTI1MCBrZXlpbnRfbWluPTI1IHNjZW5lY3V0PTQwIGludHJhX3JlZnJlc2g9MCByY19sb29rYWhlYWQ9NDAgcmM9Y3JmIG1idHJlZT0xIGNyZj0yMy4wIHFjb21wPTAuNjAgcXBtaW49MCBxcG1heD02OSBxcHN0ZXA9NCBpcF9yYXRpbz0xLjQwIGFxPTE6MS4wMACAAAADFGWIhAAz//72hvgU2FMjr//8v9JhupQr+LAABhSAFi7pjuGrjmq/4SStyrMM+BTV0kH4FJRS70pnsblKsb0DVoPaqL/w2yqWE9RhIc6OLTX/IREu4a6Hj+rgHdx9Mt3DzHbePVkGJxmGPi8pM/V1Evkt/AtCgjfVIAdcy+J8Yn58eLgh/QV817HO4hQbA7+gfcA50mK29jH7WCnBJVPgjgo9DkXCEoe8LFB93S48o8Hs/lVKadwWCESzmzL/FDTMSVF1KEOPqyuFvLh94pv5AmU7XlRVUcB4u5Vh7YliIy9JL43qtvEQlRPhGyO2PA4hB3B3oF2DrxjXGdt0EAozban5nOCZkEklDfPHc7Vq1jTkRP65mI8CE+2ZErVoMz6pix/GjxigGw4Oe3woePGma7UKXSJHwJ0+OL8llEyL0vdtprXcaNacvLIoATowSEbfQYfVW7jDepcmmaDOwfEQfVbyUstnXrMkEqpJkGeAvgWEN0TJusL+YC6mTd9783lqBNG8x+00w1ST38Ku4So2nc7xPNyHLhFB6XrkV++R/C+EPSMTdDd3qnL/xFo/KoekjOrjT73GPAlKf0YCwbJqN4o9FAcBED/WA9njLh/ynnnatDCA83fxiyKdMPvMh82ZQsEuCh4eR1PW1xCacpm085ez3VJiLVvTeLa/Vzy9FkUyEoFce6YQGpsmgioD0VODUHkAf4LlZhRmkA0bl08V/eT/hRVCH4BekEOCDZBxm42ltuNKOBWYtIuoIBqzO3SmYocI30FdJX08XXuojJXU4ctyM0MPCzodY2HkwT4JUQtQVzZmtcDSj97iWo6fKxpMZHnDJsEUlcsdTv8glQOhOSJY5DpG0vjt1NemQyuIB04fKWnQoK8fvVkhiptEIAlqptCiABrO+N8ZUCyg7ry0YWxp0ifz5R3bqixEDkcWZ4E0g6s4QAPPYR69AbQqGSVrtXeu9LMZIRmYYZbeGVPF7YqTBdACMSA702NORx0U9e9h0/7WWNfmVCnswzwG70OQDoGWJTEO0lDCxNqa6eYeAAo6xA3ZAAAAE0GaIWxDf/6nhAAyfCYrgP+VvPgAAAAXQZpCPCGTKYQ3//6nhAAxPCYo+DCDXvUAAAAZQZpjSeEPJlMCHf/+qZYAGC9pfzukKYRd0AAAAEdBmodJ4Q8mUwId//6plgAPVxehr0rJRQB6//xCR4qau80OwSq/XER4f//+IFyzV0y2CC34Vxf//xCBlTq7kjcEkrqEBmWvYQAAABRBnqVFETwv/wASWessVCwFS1GPwQAAABABnsR0Qr8AGSAADJDyb3iBAAAAEAGexmpCvwAX4ltOvAFARIEAAABHQZrLSahBaJlMCHf//qmWAAZb4Ue/Zetfo6FJf/+IR7FLV3iBGCU6JIh7D3//xAEpq5zsD2XCD///4g78vV23ngkIsB7+3WgAAAARQZ7pRREsL/8AB2vvPNrxRYwAAAAPAZ8IdEK/AAo9o7zzjDSBAAAAEAGfCmpCvwAJ825FXgCgo4AAAAArQZsPSahBbJlMCG///qeEAAUj3U+7zdj7dAfvpzLKtsVeBSWedwKZbQ33wAAAABRBny1FFSwv/wADEB6H0r+p32RVIQAAABABn0x0Qr8ABBXVoyS3+3OBAAAADwGfTmpCvwACoNZTNsyPbwAAABpBm1BJqEFsmUwId//+qZYAAmCLDdGIRz7e0AAAACpBm3RJ4QpSZTAhv/6nhAALZ7dPMsq2yn4FJaB/ApltHKBdeYzfarfSN0AAAAARQZ+SRTRML/8ABsFXPRPCL9kAAAAPAZ+xdEK/AAPMXoDJLxCAAAAAEAGfs2pCvwAJLs8cr+3ETkAAAAAfQZu4SahBaJlMCG///qeEABFvjp9qvNzR1LqprNWNwQAAABFBn9ZFESwv/wAKgylzxauHOAAAAA8Bn/V0Qr8ADi2KxhCroUEAAAAPAZ/3akK/AAksrdKNIeRXAAAAGkGb+UmoQWyZTAhv//6nhAALD6J/qt8x+MvAAAAAGUGaGknhClJlMCHf/qmWAAiCLDdGIRz7H+EAAAAnQZo+SeEOiZTAh3/+qZYADae/VzLK1TVeBSiQLwKZrlRsvfGR/t1cAAAAEEGeXEURPC//AA/iat/NntUAAAAPAZ57dEK/ABWegHQnJhbhAAAAEAGefWpCvwAWKx5bhs2qX4AAAAAeQZpiSahBaJlMCHf//qmWAA33tL9nm64rMWm41ZtAAAAAEEGegEURLC//ABBZ61Q9sXEAAAAQAZ6/dEK/ABa7R3lbKHqqwAAAAA8BnqFqQr8ADoWBLlf4V0EAAAATQZqmSahBbJlMCHf//qmWAACVgAAAABFBnsRFFSwv/wAP411zvIWdgQAAABABnuN0Qr8AFizRInxZikZxAAAAEAGe5WpCvwAWulG80xVtVWEAAAAcQZrqSahBbJlMCG///qeEABHvjp9zIwtmKEc1pQAAABBBnwhFFSwv/wAKzQIKUM+YAAAAHwGfJ3RCvwAO5pef/+P8XpQan5w7VrV1yqXqz3syh9MAAAAQAZ8pakK/AA6ALznWhhfPwQAAABpBmytJqEFsmUwId//+qZYABb+eZDbEG7rJwAAAABpBm09J4QpSZTAhv/6nhAARVWBZtwLfHTylUAAAABBBn21FNEwv/wAKhQGnTp/ZAAAADwGfjHRCvwAF+Sanqzw9wQAAABABn45qQr8ADis8C6/txCfBAAAAJ0Gbk0moQWiZTAhv//6nhAA+Xsvq+BTX1CvwKVLZ+BTOwMSC2G2/YQAAABVBn7FFESwv/wAlufoOP59Fi4NlMFYAAAAQAZ/QdEK/ABYugHO2ONNi4QAAABABn9JqQr8AM47Ucr+3D9vAAAAAGkGb1EmoQWyZTAhv//6nhABh6RP9SOjSGpJAAAAAGUGb9UnhClJlMCHf/qmWADKQWVmeQlIaTSUAAAAYQZoZSeEOiZTAh3/+qZYAM9BZygzQCN3AAAAADkGeN0URPC//ADy/t9UhAAAADwGeVnRCvwBULR3R23wrFwAAAA8BnlhqQr8AUOyjdZ6s9ekAAAASQZpdSahBaJlMCG///qeEAAEnAAAADEGee0URLC//AACygAAAAA8Bnpp0Qr8AUOyjiOy7Kx8AAAAPAZ6cakK/AFDso3WerPXpAAAAHUGagUmoQWyZTAhv//6nhABk/YP8tdINWzFCRQdlAAAAE0Gev0UVLC//ADtfsqzE+zpniPwAAAAQAZ7edEK/AFHTmOA/J//AIQAAABABnsBqQr8AM47cJuM+vTvMAAAAGkGawkmoQWyZTAh3//6plgAgBRzrQ9X3yI3BAAAAJkGa5knhClJlMCG//qeEAD++wf6T3hRfApr6g34FKlo/ApnYGkBbAAAAFEGfBEU0TC//ACa0CSKzNWb+7J5BAAAAEAGfI3RCvwA0wCmeV+Sm10kAAAAQAZ8lakK/ACS7EeS5nyV2gQAAABpBmydJqEFomUwId//+qZYAIwiw3RiEc+wS4QAAAChBm0tJ4QpSZTAh3/6plgBZvdi5llapqvApRIF4FM1yxxnrS6V10c9MAAAAFEGfaUU0TC//AGmVc9D/gyk1a4tgAAAADwGfiHRCvwA7cUmN6gjXdwAAABABn4pqQr8Ajuzxyv7cPqzAAAAAIkGbj0moQWiZTAhv//6nhAEUHzNTZixxy7QYotKIO3+H2UAAAAARQZ+tRREsL/8AqE+YdV68kjEAAAAPAZ/MdEK/ANzZV3ebtRfBAAAAEAGfzmpCvwDiM8IeNDWMr4EAAAAaQZvQSahBbJlMCHf//qmWAIz8efv2Qbin4uAAAAAjQZv0SeEKUmUwId/+qZYAW/31fdk9NMHxCDr/8JVQzf/7K5wAAAAUQZ4SRTRML/8AbARno3bpa4lGduEAAAAQAZ4xdEK/AJK7McB+T/9VIAAAABABnjNqQr8APMC851oYXlfAAAAAEkGaOEmoQWiZTAhv//6nhAABJwAAAAxBnlZFESwv/wAAsoAAAAAPAZ51dEK/ACZUPJagPy6rAAAAEAGed2pCvwA7ZqHP8y3gDMEAAAAeQZp8SahBbJlMCG///qeEAC/8Jmr2cfwKbIwSvZB8AAAAFUGemkUVLC//ABxP/Ynork6drFXwIQAAAA8Bnrl0Qr8AJq7KFJtkq1sAAAAQAZ67akK/ACS7RCbjPr0/KQAAABlBmr1JqEFsmUwIb//+p4QALZzKuLM/+3BNAAAAGUGa3knhClJlMCHf/qmWABZvfVlVmbZgTsAAAAAmQZriSeEOiZTAh3/+qZYAMZ7DfMssYVV4FM1xU8CiT15r2GeSB4AAAAAVQZ8ARRE8L/8AOgnUY3uVyIveeBJpAAAAEAGfP3RCvwA00mhE+LMUd0gAAAAQAZ8hakK/AFHUaJkTSs3lQQAAABtBmyZJqEFomUwId//+qZYAMZ8QgOb+ocnSJqoAAAAQQZ9ERREsL/8AOf/FXkUgIQAAABABn2N0Qr8AUe0d5Wyh6UmBAAAADwGfZWpCvwA01iwLr/ANIQAAABNBm2pJqEFsmUwId//+qZYAAJWBAAAAEUGfiEUVLC//ADoNdc7yFICAAAAAEAGfp3RCvwBR+gHO2ONNGmAAAAAQAZ+pakK/AFHpRvNMVbSkwQAAABtBm65JqEFsmUwId//+qZYAMVc6R/gIDc/pjlQAAAAQQZ/MRRUsL/8AOgnUb2CP+AAAAA8Bn+t0Qr8ANMk1PVnfjMEAAAAQAZ/takK/AFHUaJkTSs3lQQAAABtBm/JJqEFsmUwId//+qZYAMZ8QgOb+ocnSJqsAAAAQQZ4QRRUsL/8AOf/FXkUgIAAAABABni90Qr8AUe0d5Wyh6UmAAAAADwGeMWpCvwA01iwLr/ANIQAAABNBmjZJqEFsmUwId//+qZYAAJWAAAAAEUGeVEUVLC//ADoNdc7yFICAAAAAEAGec3RCvwBR+gHO2ONNGmEAAAAQAZ51akK/AFHpRvNMVbSkwAAAABtBmnpJqEFsmUwIb//+p4QAYe1B7e8MDm/oRlUAAAAQQZ6YRRUsL/8AOgnUb2CP+QAAAA8Bnrd0Qr8ANMk1PVnfjMAAAAAQAZ65akK/AFHUaJkTSs3lQQAAACVBmr5JqEFsmUwIZ//+nhABf/f39H+xPJ/EI7xf/8QjJUf/xmzAAAAAEkGe3EUVLC//ADn/xX+BJ93wUwAAABABnvt0Qr8AUe0d5Wyh6UmBAAAAEAGe/WpCvwA0xLadeAJ/uoAAAAAZQZr/SahBbJlMCGf//p4QAGn4S6WQx+ZL8AAAABhBmwBJ4QpSZTAhv/6nhAARbptxTIoT4e8AAAAYQZshSeEOiZTAhv/+p4QAC2cyuKZFCfGTAAAAGEGbRUnhDyZTAhv//qeEABFVtLgt8dPKVQAAABBBn2NFETwv/wAKhQGnTp/YAAAADwGfgnRCvwAF+Sanqzw9wQAAABABn4RqQr8ADis8C6/txCfBAAAAGkGbhkmoQWiZTAhv//6nhAAa+kT/Vb5j8T0hAAAAHkGbqknhClJlMCGf/p4QALH7w1zgU2lu1xOGtjWjyQAAABVBn8hFNEwv/wAbBWmMD0zi1890mqAAAAAQAZ/ndEK/ACK+aoHTtQ4ZgAAAABABn+lqQr8AJLsR5LmfJXaBAAAAGUGb60moQWiZTAhn//6eEACx8yulkMfmRbgAAAAYQZoMSeEKUmUwIb/+p4QAHR4TMrkFvTaeAAAAGUGaLUnhDomUwIb//qeEABLvjp9RxoSHWUEAAAAZQZpOSeEPJlMCHf/+qZYABjPaX87pCmEtEQAAABJBmnJJ4Q8mUwId//6plgAAlYEAAAAMQZ6QRRE8L/8AALKAAAAAEAGer3RCvwAGXzk78AH3NsAAAAAQAZ6xakK/AAZfOTvZ4+5tgQAAABNBmrZJqEFomUwId//+qZYAAJWAAAAADEGe1EURLC//AACygAAAABABnvN0Qr8ABl85O/AB9zbBAAAAEAGe9WpCvwAGXzk72ePubYAAAAATQZr6SahBbJlMCHf//qmWAACVgQAAAAxBnxhFFSwv/wAAsoEAAAAQAZ83dEK/AAZfOTvwAfc2wAAAABABnzlqQr8ABl85O9nj7m2BAAAAE0GbPkmoQWyZTAh3//6plgAAlYAAAAAMQZ9cRRUsL/8AALKBAAAAEAGfe3RCvwAGXzk78AH3NsEAAAAQAZ99akK/AAZfOTvZ4+5tgAAAABNBm2JJqEFsmUwId//+qZYAAJWAAAAADEGfgEUVLC//AACygQAAABABn790Qr8ABl85O/AB9zbAAAAAEAGfoWpCvwAGXzk72ePubYEAAAATQZumSahBbJlMCHf//qmWAACVgAAAABRBn8RFFSwv/wAEqhg9ZQPfRZSriQAAAA8Bn+N0Qr8ABnAD4pNslkEAAAAQAZ/lakK/AAZx1TyYHr56gQAAABdBm+pJqEFsmUwId//+qZYABCfjz+TPwQAAACRBnghFFSwv/wAE61WXcJVwM//xCFcEs//xBM3rP/+//hCPAuAAAAAQAZ4ndEK/AAbCP8xGo4BQQAAAABABnilqQr8ABsCO3OqZji3BAAAAE0GaLkmoQWyZTAh3//6plgAAlYAAAAAMQZ5MRRUsL/8AALKAAAAAEAGea3RCvwAGXzk78AH3NsEAAAAQAZ5takK/AAZfOTvZ4+5tgQAAACRBmnJJqEFsmUwId//+qZYAA+vtL+uRU0wfEIOv/wlVDN//t20AAAAQQZ6QRRUsL/8ABLc/QcojjAAAAA8Bnq90Qr8ABnEmp6s8NsAAAAAQAZ6xakK/AAZwltOvAFCRgQAAABpBmrZJqEFsmUwId//+qZYAA+a6Y5F76vMNgAAAABBBntRFFSwv/wAEtoCDfKPQAAAAEAGe83RCvwAGckteB0ynkYEAAAAPAZ71akK/AAZyxYF1/jhgAAAAE0Ga+kmoQWyZTAh3//6plgAAlYEAAAAMQZ8YRRUsL/8AALKBAAAAEAGfN3RCvwAGXzk78AH3NsAAAAAQAZ85akK/AAZfOTvZ4+5tgQAAABNBmz5JqEFsmUwId//+qZYAAJWAAAAADEGfXEUVLC//AACygQAAABABn3t0Qr8ABl85O/AB9zbBAAAAEAGffWpCvwAGXzk72ePubYAAAAASQZtiSahBbJlMCG///qeEAAEnAAAADEGfgEUVLC//AACygQAAABABn790Qr8ABl85O/AB9zbAAAAAEAGfoWpCvwAGXzk72ePubYEAAAAkQZumSahBbJlMCGf//p4QAB5/X39SBPJ/EH///8QhXBf/7ZNAAAAAEEGfxEUVLC//AAS3P3OFnPkAAAAPAZ/jdEK/AAZxJqerPDbBAAAAEAGf5WpCvwAGcJkmm+kg9XEAAAAaQZvpS6hCEFskRggoB/IB/YeAIV/+OEAAEXEAAAAoQZ4IQhX/Aq9j7UHE3arDSSblqoYHLLW7zSogmj8eAhsslNFeNzMgbwAAABABnidpEK8ABsHaluGyXRnAAAAMMW1vb3YAAABsbXZoZAAAAAAAAAAAAAAAAAAAA+gAAB+QAAEAAAEAAAAAAAAAAAAAAAABAAAAAAAAAAAAAAAAAAAAAQAAAAAAAAAAAAAAAAAAQAAAAAAAAAAAAAAAAAAAAAAAAAAAAAAAAAAAAAAAAAIAAAtbdHJhawAAAFx0a2hkAAAAAwAAAAAAAAAAAAAAAQAAAAAAAB+QAAAAAAAAAAAAAAAAAAAAAAABAAAAAAAAAAAAAAAAAAAAAQAAAAAAAAAAAAAAAAAAQAAAAAEQAAABEAAAAAAAJGVkdHMAAAAcZWxzdAAAAAAAAAABAAAfkAAABAAAAQAAAAAK021kaWEAAAAgbWRoZAAAAAAAAAAAAAAAAAAAMgAAAZQAVcQAAAAAAC1oZGxyAAAAAAAAAAB2aWRlAAAAAAAAAAAAAAAAVmlkZW9IYW5kbGVyAAAACn5taW5mAAAAFHZtaGQAAAABAAAAAAAAAAAAAAAkZGluZgAAABxkcmVmAAAAAAAAAAEAAAAMdXJsIAAAAAEAAAo+c3RibAAAAJZzdHNkAAAAAAAAAAEAAACGYXZjMQAAAAAAAAABAAAAAAAAAAAAAAAAAAAAAAEQARAASAAAAEgAAAAAAAAAAQAAAAAAAAAAAAAAAAAAAAAAAAAAAAAAAAAAAAAAAAAAABj//wAAADBhdmNDAfQADf/hABdn9AANkZsoIhHQgAAAAwCAAAAZB4oUywEABmjr48RIRAAAABhzdHRzAAAAAAAAAAEAAADKAAACAAAAABRzdHNzAAAAAAAAAAEAAAABAAAGCGN0dHMAAAAAAAAAvwAAAAQAAAQAAAAAAQAACgAAAAABAAAEAAAAAAEAAAAAAAAAAQAAAgAAAAABAAAKAAAAAAEAAAQAAAAAAQAAAAAAAAABAAACAAAAAAEAAAoAAAAAAQAABAAAAAABAAAAAAAAAAEAAAIAAAAAAQAABAAAAAABAAAKAAAAAAEAAAQAAAAAAQAAAAAAAAABAAACAAAAAAEAAAoAAAAAAQAABAAAAAABAAAAAAAAAAEAAAIAAAAAAgAABAAAAAABAAAKAAAAAAEAAAQAAAAAAQAAAAAAAAABAAACAAAAAAEAAAoAAAAAAQAABAAAAAABAAAAAAAAAAEAAAIAAAAAAQAACgAAAAABAAAEAAAAAAEAAAAAAAAAAQAAAgAAAAABAAAKAAAAAAEAAAQAAAAAAQAAAAAAAAABAAACAAAAAAEAAAQAAAAAAQAACgAAAAABAAAEAAAAAAEAAAAAAAAAAQAAAgAAAAABAAAKAAAAAAEAAAQAAAAAAQAAAAAAAAABAAACAAAAAAIAAAQAAAAAAQAACgAAAAABAAAEAAAAAAEAAAAAAAAAAQAAAgAAAAABAAAKAAAAAAEAAAQAAAAAAQAAAAAAAAABAAACAAAAAAEAAAoAAAAAAQAABAAAAAABAAAAAAAAAAEAAAIAAAAAAQAABAAAAAABAAAKAAAAAAEAAAQAAAAAAQAAAAAAAAABAAACAAAAAAEAAAQAAAAAAQAACgAAAAABAAAEAAAAAAEAAAAAAAAAAQAAAgAAAAABAAAKAAAAAAEAAAQAAAAAAQAAAAAAAAABAAACAAAAAAEAAAQAAAAAAQAACgAAAAABAAAEAAAAAAEAAAAAAAAAAQAAAgAAAAABAAAKAAAAAAEAAAQAAAAAAQAAAAAAAAABAAACAAAAAAEAAAoAAAAAAQAABAAAAAABAAAAAAAAAAEAAAIAAAAAAgAABAAAAAABAAAKAAAAAAEAAAQAAAAAAQAAAAAAAAABAAACAAAAAAEAAAoAAAAAAQAABAAAAAABAAAAAAAAAAEAAAIAAAAAAQAACgAAAAABAAAEAAAAAAEAAAAAAAAAAQAAAgAAAAABAAAKAAAAAAEAAAQAAAAAAQAAAAAAAAABAAACAAAAAAEAAAoAAAAAAQAABAAAAAABAAAAAAAAAAEAAAIAAAAAAQAACgAAAAABAAAEAAAAAAEAAAAAAAAAAQAAAgAAAAABAAAKAAAAAAEAAAQAAAAAAQAAAAAAAAABAAACAAAAAAEAAAoAAAAAAQAABAAAAAABAAAAAAAAAAEAAAIAAAAAAwAABAAAAAABAAAKAAAAAAEAAAQAAAAAAQAAAAAAAAABAAACAAAAAAEAAAQAAAAAAQAACgAAAAABAAAEAAAAAAEAAAAAAAAAAQAAAgAAAAAEAAAEAAAAAAEAAAoAAAAAAQAABAAAAAABAAAAAAAAAAEAAAIAAAAAAQAACgAAAAABAAAEAAAAAAEAAAAAAAAAAQAAAgAAAAABAAAKAAAAAAEAAAQAAAAAAQAAAAAAAAABAAACAAAAAAEAAAoAAAAAAQAABAAAAAABAAAAAAAAAAEAAAIAAAAAAQAACgAAAAABAAAEAAAAAAEAAAAAAAAAAQAAAgAAAAABAAAKAAAAAAEAAAQAAAAAAQAAAAAAAAABAAACAAAAAAEAAAoAAAAAAQAABAAAAAABAAAAAAAAAAEAAAIAAAAAAQAACgAAAAABAAAEAAAAAAEAAAAAAAAAAQAAAgAAAAABAAAKAAAAAAEAAAQAAAAAAQAAAAAAAAABAAACAAAAAAEAAAoAAAAAAQAABAAAAAABAAAAAAAAAAEAAAIAAAAAAQAACgAAAAABAAAEAAAAAAEAAAAAAAAAAQAAAgAAAAABAAAKAAAAAAEAAAQAAAAAAQAAAAAAAAABAAACAAAAAAEAAAoAAAAAAQAABAAAAAABAAAAAAAAAAEAAAIAAAAAAQAACgAAAAABAAAEAAAAAAEAAAAAAAAAAQAAAgAAAAABAAAIAAAAAAEAAAQAAAAAAQAAAAAAAAAcc3RzYwAAAAAAAAABAAAAAQAAAMoAAAABAAADPHN0c3oAAAAAAAAAAAAAAMoAAAXKAAAAFwAAABsAAAAdAAAASwAAABgAAAAUAAAAFAAAAEsAAAAVAAAAEwAAABQAAAAvAAAAGAAAABQAAAATAAAAHgAAAC4AAAAVAAAAEwAAABQAAAAjAAAAFQAAABMAAAATAAAAHgAAAB0AAAArAAAAFAAAABMAAAAUAAAAIgAAABQAAAAUAAAAEwAAABcAAAAVAAAAFAAAABQAAAAgAAAAFAAAACMAAAAUAAAAHgAAAB4AAAAUAAAAEwAAABQAAAArAAAAGQAAABQAAAAUAAAAHgAAAB0AAAAcAAAAEgAAABMAAAATAAAAFgAAABAAAAATAAAAEwAAACEAAAAXAAAAFAAAABQAAAAeAAAAKgAAABgAAAAUAAAAFAAAAB4AAAAsAAAAGAAAABMAAAAUAAAAJgAAABUAAAATAAAAFAAAAB4AAAAnAAAAGAAAABQAAAAUAAAAFgAAABAAAAATAAAAFAAAACIAAAAZAAAAEwAAABQAAAAdAAAAHQAAACoAAAAZAAAAFAAAABQAAAAfAAAAFAAAABQAAAATAAAAFwAAABUAAAAUAAAAFAAAAB8AAAAUAAAAEwAAABQAAAAfAAAAFAAAABQAAAATAAAAFwAAABUAAAAUAAAAFAAAAB8AAAAUAAAAEwAAABQAAAApAAAAFgAAABQAAAAUAAAAHQAAABwAAAAcAAAAHAAAABQAAAATAAAAFAAAAB4AAAAiAAAAGQAAABQAAAAUAAAAHQAAABwAAAAdAAAAHQAAABYAAAAQAAAAFAAAABQAAAAXAAAAEAAAABQAAAAUAAAAFwAAABAAAAAUAAAAFAAAABcAAAAQAAAAFAAAABQAAAAXAAAAEAAAABQAAAAUAAAAFwAAABgAAAATAAAAFAAAABsAAAAoAAAAFAAAABQAAAAXAAAAEAAAABQAAAAUAAAAKAAAABQAAAATAAAAFAAAAB4AAAAUAAAAFAAAABMAAAAXAAAAEAAAABQAAAAUAAAAFwAAABAAAAAUAAAAFAAAABYAAAAQAAAAFAAAABQAAAAoAAAAFAAAABMAAAAUAAAAHgAAACwAAAAUAAAAFHN0Y28AAAAAAAAAAQAAADAAAABidWR0YQAAAFptZXRhAAAAAAAAACFoZGxyAAAAAAAAAABtZGlyYXBwbAAAAAAAAAAAAAAAAC1pbHN0AAAAJal0b28AAAAdZGF0YQAAAAEAAAAATGF2ZjU2LjM2LjEwMA==\" type=\"video/mp4\" />\n",
       "             </video>"
      ],
      "text/plain": [
       "<IPython.core.display.HTML object>"
      ]
     },
     "execution_count": 85,
     "metadata": {},
     "output_type": "execute_result"
    }
   ],
   "source": [
    "# Evaluation\n",
    "test(agent,env,epochs_test,prefix='cnn_test_explore')\n",
    "HTML(display_videos('cnn_test_explore10.mp4'))"
   ]
  },
  {
   "cell_type": "markdown",
   "metadata": {},
   "source": [
    "**1- Training**The score at each step is negative which is logical because we are prefering exploration than explotation in the training phase.\n",
    "\n",
    "**2- Evaluation**We can see here that almost all the actions taken gave a loss of 0 which will improve our final score. So doing an exploration in the training is increasing our performance."
   ]
  },
  {
   "cell_type": "markdown",
   "metadata": {},
   "source": [
    "***\n",
    "***\n",
    "__BONUS question__ Use the expert DQN from the previous question to generate some winning games. Train a model that mimicks its behavior. Compare the performances."
   ]
  },
  {
   "cell_type": "markdown",
   "metadata": {},
   "source": []
  },
  {
   "cell_type": "markdown",
   "metadata": {},
   "source": [
    "***"
   ]
  }
 ],
 "metadata": {
  "kernelspec": {
   "display_name": "Python 3",
   "language": "python",
   "name": "python3"
  },
  "language_info": {
   "codemirror_mode": {
    "name": "ipython",
    "version": 3
   },
   "file_extension": ".py",
   "mimetype": "text/x-python",
   "name": "python",
   "nbconvert_exporter": "python",
   "pygments_lexer": "ipython3",
   "version": "3.6.8"
  }
 },
 "nbformat": 4,
 "nbformat_minor": 2
}
